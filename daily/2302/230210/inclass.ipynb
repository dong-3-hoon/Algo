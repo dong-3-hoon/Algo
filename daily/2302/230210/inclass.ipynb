{
 "cells": [
  {
   "cell_type": "code",
   "execution_count": null,
   "metadata": {},
   "outputs": [],
   "source": [
    "#swea_1979_wherespell\n",
    "def count(arr):\n",
    "    ans = 0\n",
    "    for lst in arr:\n",
    "        cnt = 0\n",
    "        for n in lst:\n",
    "            if n == 1: #단어를 넣을 수 있는 경우\n",
    "                cnt += 1\n",
    "            else: #단어를 넣을 수 없음\n",
    "                if cnt == K:\n",
    "                    ans += 1\n",
    "                cnt = 0\n",
    "    return ans\n",
    "T = int(input())\n",
    "for tc in range(1, T+1):\n",
    "    N, K = map(int, input().split())\n",
    "    #arr에 0 바운더리 추가\n",
    "    arr = [list(map(int, input().split())) + [0] for _ in range(N)] +[[0]*(N+1)]\n",
    "\n",
    "    #arr와 arr_t 로 각각 개수를 계산\n",
    "    arr_t = list(zip(*arr))\n",
    "    ans = count(arr) + count(arr_t)\n",
    "    print(f'#{tc} {ans}')"
   ]
  },
  {
   "cell_type": "code",
   "execution_count": null,
   "metadata": {},
   "outputs": [],
   "source": [
    "#swea_1974_sudokuveli\n",
    "\n",
    "def solve(arr):\n",
    "    #행 체크\n",
    "    for lst in arr:\n",
    "        #not sudoku\n",
    "        if len(set(lst)) != 9:\n",
    "            return 0\n",
    "    #전치행렬\n",
    "    arr_t = list(zip(*arr))\n",
    "    #열 체크\n",
    "    for lst in arr_t:\n",
    "        if len(set(lst)) != 9:\n",
    "            return 0\n",
    "    #사각혀 ㅇ체크\n",
    "    for i in (0,3,6):\n",
    "        for j in (0,3,6):\n",
    "            lst = arr[i][j:j+3] + arr[i+1][j:j+3] + arr[i+2][j:j+3]\n",
    "            if len(set(lst)) != 9:\n",
    "                return 0\n",
    "    return 1\n",
    "    \n",
    "T = int(input())\n",
    "for tc in range(1, T+1):\n",
    "    arr = [list(map(int, input().split())) for _ in range(9)]\n",
    "\n",
    "    ans = solve(arr)\n",
    "    print(f'#{tc} {ans}')"
   ]
  },
  {
   "cell_type": "code",
   "execution_count": null,
   "metadata": {},
   "outputs": [],
   "source": [
    "#swea_1216_rotnum\n",
    "T = int(input())\n",
    "for tc in range(1, T+1):\n",
    "    N = int(input())\n",
    "    arr = [input().split() for _ in range(N)]\n",
    "    a1 = [[0]*N for _ in range(N)] #90도\n",
    "    a2 = [[0]*N for _ in range(N)]\n",
    "    a3 = [[0]*N for _ in range(N)]\n",
    "    #회전각도에 따른 위치값 저장\n",
    "    for i in range(N):\n",
    "        for j in range(N):\n",
    "            a1[i][j] = arr[N-1-j][i]\n",
    "            a2[i][j] = arr[N-1-i][N-1-j]\n",
    "            a3[i][j] = arr[j][N-1-i]\n",
    "    \n",
    "    print(f'#{tc}')\n",
    "    for a,b,c in zip(a1, a2, a3):\n",
    "        print(f'{\"\".join(a)} {\"\".join(b)} {\"\".join(c)}')"
   ]
  },
  {
   "cell_type": "code",
   "execution_count": null,
   "metadata": {},
   "outputs": [],
   "source": [
    "#swea_1216_rotnum_another_ver\n",
    "T = int(input())\n",
    "for tc in range(1, T+1):\n",
    "    N = int(input())\n",
    "    arr = [input().split() for _ in range(N)]\n",
    "    arr_t = list(map(list, zip(*arr)))\n",
    "    a1 = [[0]*N for _ in range(N)] #90도\n",
    "    a2 = [[0]*N for _ in range(N)]\n",
    "    a3 = [[0]*N for _ in range(N)]\n",
    "    #전치배열과 읽는 방향에 따른 처리\n",
    "    print(f'#{tc}')\n",
    "    for i in range(N):\n",
    "        print(f'{\"\".join(arr_t[i][::-1])} {\"\".join(arr[N-1-i][::-1])} {\"\".join(arr_t[N-1-i][::-1])}')\n",
    "        "
   ]
  },
  {
   "cell_type": "code",
   "execution_count": null,
   "metadata": {},
   "outputs": [],
   "source": [
    "#swea_1211_ladder\n",
    "T = 10\n",
    "for test_case in range(1, T + 1):\n",
    "    _ = int(input())\n",
    "    arr = [[0] + list(map(int, input().split())) + [0] for _ in range(100)]\n",
    "    mn = 100*100\n",
    "    for sj in range(1, 101):\n",
    "        # [1] 시작지점 찾기\n",
    "        si = 0\n",
    "        if arr[si][sj]!=1:\n",
    "            continue\n",
    "        cnt, dj = 0, 0\n",
    "        ci, cj = si, sj\n",
    "        while ci<99:\n",
    "            cnt+=1\n",
    "            if dj==0:\n",
    "                if arr[ci][cj-1]==1:    #좌측\n",
    "                    dj=-1\n",
    "                    cj-=1\n",
    "                elif arr[ci][cj+1]==1:  #우측\n",
    "                    dj=1\n",
    "                    cj+=1\n",
    "                else:\n",
    "                    ci+=1\n",
    "            else:\n",
    "                if arr[ci][cj+dj]==1:\n",
    "                    cj+=dj\n",
    "                else:   # 진행방향이 막힌경우 아래로\n",
    "                    dj=0\n",
    "                    ci+=1\n",
    "        if mn>=cnt:\n",
    "            mn, ans = cnt, sj-1\n",
    " \n",
    "    print(f'#{test_case} {ans}')"
   ]
  },
  {
   "cell_type": "code",
   "execution_count": null,
   "metadata": {},
   "outputs": [],
   "source": []
  },
  {
   "cell_type": "code",
   "execution_count": null,
   "metadata": {},
   "outputs": [],
   "source": []
  }
 ],
 "metadata": {
  "kernelspec": {
   "display_name": "Python 3",
   "language": "python",
   "name": "python3"
  },
  "language_info": {
   "name": "python",
   "version": "3.9.13 (tags/v3.9.13:6de2ca5, May 17 2022, 16:36:42) [MSC v.1929 64 bit (AMD64)]"
  },
  "orig_nbformat": 4,
  "vscode": {
   "interpreter": {
    "hash": "c4b9ebf4ca459396e2ad1150752490c26670c1a037c08cad955a4425787bec2e"
   }
  }
 },
 "nbformat": 4,
 "nbformat_minor": 2
}
