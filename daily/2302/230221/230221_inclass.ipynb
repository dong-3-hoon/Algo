{
 "cells": [
  {
   "cell_type": "code",
   "execution_count": 5,
   "metadata": {},
   "outputs": [
    {
     "name": "stdout",
     "output_type": "stream",
     "text": [
      "1 2 3 4 5 7 6 [0, 1, 2, 2, 3, 3, 4, 3]\n"
     ]
    }
   ],
   "source": [
    "'''\n",
    "7 8 \n",
    "1 2 1 3 2 4 2 5 4 6 5 6 6 7 3 7\n",
    "'''\n",
    "\n",
    "def bfs(v, N):\n",
    "    visited = [0] * (N+1)  # visited 생성\n",
    "    q = [v]  # 큐 생성\n",
    "    # 시작점 인큐\n",
    "    visited[v] = 1  # 시작점 인큐 표시\n",
    "    while q:  # q가 비어있지 않으면\n",
    "        t = q.pop(0)  #디큐\n",
    "        print(t, end = ' ')  # t에서 처리할 일\n",
    "        for i in adjL[t]:  # t에 인접이고 방문한 적 없는 v\n",
    "            if visited[i] == 0:\n",
    "                q.append(i)  # v인큐\n",
    "                visited[i] = visited[t] + 1  # 인큐 표시\n",
    "    print()\n",
    "    print(visited)\n",
    "V, E = map(int, input().split())\n",
    "arr = list(map(int, input().split()))\n",
    "adjL = [[] for _ in range(V+1)]\n",
    "for i in range(E):\n",
    "    n1, n2 = arr[i*2], arr[i*2+1]\n",
    "    adjL[n1].append(n2)\n",
    "    adjL[n2].append(n1)\n",
    "bfs(1, V) # 시작 정점 1, 정점 개수 V"
   ]
  },
  {
   "cell_type": "code",
   "execution_count": null,
   "metadata": {},
   "outputs": [],
   "source": []
  }
 ],
 "metadata": {
  "kernelspec": {
   "display_name": "Python 3",
   "language": "python",
   "name": "python3"
  },
  "language_info": {
   "codemirror_mode": {
    "name": "ipython",
    "version": 3
   },
   "file_extension": ".py",
   "mimetype": "text/x-python",
   "name": "python",
   "nbconvert_exporter": "python",
   "pygments_lexer": "ipython3",
   "version": "3.9.13"
  },
  "orig_nbformat": 4,
  "vscode": {
   "interpreter": {
    "hash": "c4b9ebf4ca459396e2ad1150752490c26670c1a037c08cad955a4425787bec2e"
   }
  }
 },
 "nbformat": 4,
 "nbformat_minor": 2
}
