{
 "cells": [
  {
   "cell_type": "code",
   "execution_count": 3,
   "metadata": {},
   "outputs": [],
   "source": [
    "\n",
    "N = int(input())\n",
    "arr = list(map(int, input().split()))\n",
    "\n",
    "for i in range(N-1): # 작업 구간의 시작인덱스\n",
    "    minIdx = i # 맨 앞이 최소라 가정\n",
    "    for j in range(i+1, N):\n",
    "        if arr[minIdx]>arr[j]:\n",
    "            minIdx = j\n",
    "    arr[minIdx], arr[i] = arr[i], arr[minIdx]\n",
    "    print(arr)\n"
   ]
  },
  {
   "cell_type": "code",
   "execution_count": 8,
   "metadata": {},
   "outputs": [
    {
     "name": "stdout",
     "output_type": "stream",
     "text": [
      "find\n",
      "5\n"
     ]
    }
   ],
   "source": [
    "###binary search\n",
    "def binary_search(arr, n, key):\n",
    "    # 검색 범위를 지정\n",
    "    #시작, 끝\n",
    "    start = 0\n",
    "    end = n-1\n",
    "\n",
    "    while start <= end:\n",
    "        # 가운데를 선택\n",
    "        mid = (start + end) // 2\n",
    "        # 가운데에 내가 찾는 게 있다\n",
    "        if arr[mid] == key:\n",
    "            #탐색 성공\n",
    "            print(f\"find\")\n",
    "            return mid\n",
    "        #가운데 값이 내가 찾는 값보다 크다\n",
    "        elif arr[mid]>key:\n",
    "            #검색 범위 재지정\n",
    "            #오른쪽은 더이상 살펴볼 필요가 없다. 뒤는 어차피 나보다 큼\n",
    "            #검색의 끝 범위를 가운데로 땡겨옴\n",
    "            end = mid -1\n",
    "        else:\n",
    "            #왼쪽은 나보다 작아서 필요없음\n",
    "            #검색의 시작 범위를 가운데로 땡겨옴\n",
    "            start = mid + 1\n",
    "    print('cant find')\n",
    "    return -1\n",
    "\n",
    "arr=[2,3,5,7,8,16,77]\n",
    "n = len(arr)\n",
    "print(binary_search(arr, n, 16))"
   ]
  },
  {
   "cell_type": "code",
   "execution_count": 11,
   "metadata": {},
   "outputs": [
    {
     "name": "stdout",
     "output_type": "stream",
     "text": [
      "[10, 25, 64, 22, 11]\n"
     ]
    }
   ],
   "source": [
    "#selection sort\n",
    "#맨 앞자리부터 자리의 주인을 정해준다(최솟값)\n",
    "\n",
    "#i = 0 ->제일 작은 수\n",
    "def selection_sort(arr, n):\n",
    "    #맨 앞자리부터 자리의 주인을 정해준다. 작은숫자부터 차례대로\n",
    "    for i in range(n -1):\n",
    "        min_idx = i\n",
    "        # i 의 뒤부터 비교를 시작하면서 최솟값을 찾는다\n",
    "        for j in range(i+1, n):\n",
    "            #제일 작은 숫자의 인덱스를 찾기\n",
    "            if arr[min_idx] > arr[j]:\n",
    "                min_dix = j\n",
    "        #반복을 다 돌았으면 제일 작은숫자를 현자 자리 i로 이동\n",
    "        arr[i], arr[min_idx] = arr[min_idx], arr[i]\n",
    "arr = [10, 25, 64, 22,11]\n",
    "n=len(arr)\n",
    "selection_sort(arr, n)\n",
    "print(arr)\n"
   ]
  },
  {
   "cell_type": "code",
   "execution_count": 12,
   "metadata": {},
   "outputs": [
    {
     "name": "stdout",
     "output_type": "stream",
     "text": [
      "[64, 25, 22, 11, 10]\n"
     ]
    }
   ],
   "source": [
    "#selection sort 내림차순\n",
    "\n",
    "#i = 0 ->제일 큰 수\n",
    "def selection_sort_dec(arr, n):\n",
    "    #맨 앞자리부터 자리의 주인을 정해준다. 큰숫자부터 차례대로\n",
    "    for i in range(n -1):\n",
    "        max_idx = i\n",
    "        # i 의 뒤부터 비교를 시작하면서 최대값을 찾는다\n",
    "        for j in range(i+1, n):\n",
    "            #제일 큰 숫자의 인덱스를 찾기\n",
    "            if arr[max_idx] < arr[j]:\n",
    "                max_idx = j\n",
    "        #반복을 다 돌았으면 제일 작은숫자를 현자 자리 i로 이동\n",
    "        arr[i], arr[max_idx] = arr[max_idx], arr[i]\n",
    "arr = [10, 25, 64, 22,11]\n",
    "n=len(arr)\n",
    "selection_sort_dec(arr, n)\n",
    "print(arr)"
   ]
  },
  {
   "cell_type": "code",
   "execution_count": null,
   "metadata": {},
   "outputs": [],
   "source": []
  }
 ],
 "metadata": {
  "kernelspec": {
   "display_name": "Python 3",
   "language": "python",
   "name": "python3"
  },
  "language_info": {
   "codemirror_mode": {
    "name": "ipython",
    "version": 3
   },
   "file_extension": ".py",
   "mimetype": "text/x-python",
   "name": "python",
   "nbconvert_exporter": "python",
   "pygments_lexer": "ipython3",
   "version": "3.9.13 (tags/v3.9.13:6de2ca5, May 17 2022, 16:36:42) [MSC v.1929 64 bit (AMD64)]"
  },
  "orig_nbformat": 4,
  "vscode": {
   "interpreter": {
    "hash": "c4b9ebf4ca459396e2ad1150752490c26670c1a037c08cad955a4425787bec2e"
   }
  }
 },
 "nbformat": 4,
 "nbformat_minor": 2
}
