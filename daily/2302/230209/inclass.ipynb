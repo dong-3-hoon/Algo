{
 "cells": [
  {
   "cell_type": "code",
   "execution_count": 2,
   "metadata": {},
   "outputs": [
    {
     "name": "stdout",
     "output_type": "stream",
     "text": [
      "3\n"
     ]
    }
   ],
   "source": [
    "#패턴 탐색하기\n",
    "p = 'ab'\n",
    "t = 'aaaabaaaabaaaab'\n",
    "M = len(p)\n",
    "N = len(t)\n",
    "\n",
    "def bf(p, t):\n",
    "    i = 0 # t에서의 비교 위치\n",
    "    j = 0 # p에서의 비교 위치\n",
    "    while i < N and j < M: # 비교 문장이 남아있고, 패턴을 찾기 전이면\n",
    "        if t[i] != p[j]: # 서로 다른 글자를 만나면\n",
    "            i -= j #비교르 ㄹ시작한 위치로\n",
    "            j = -1 # 패턴으 ㅣ시작 전으로\n",
    "        i += 1\n",
    "        j += 1\n",
    "    if j == M: #패턴 탐색 성공\n",
    "        return i - M\n",
    "    else:\n",
    "        return -1\n",
    "print(bf(p, t))"
   ]
  },
  {
   "cell_type": "code",
   "execution_count": 4,
   "metadata": {},
   "outputs": [
    {
     "name": "stdout",
     "output_type": "stream",
     "text": [
      "3\n"
     ]
    }
   ],
   "source": [
    "p = 'ab'\n",
    "t = 'aaaabaaaabaaaab'\n",
    "M = len(p)\n",
    "N = len(t)\n",
    "\n",
    "def bf(p, t, N, M):\n",
    "    i = 0 # t에서의 비교 위치\n",
    "    j = 0 # p에서의 비교 위치\n",
    "    while i < N and j < M: # 비교 문장이 남아있고, 패턴을 찾기 전이면\n",
    "        if t[i] == p[j]: # 서로 다른 글자를 만나면\n",
    "            i += 1 #비교르 ㄹ시작한 위치로\n",
    "            j += 1 # 패턴으 ㅣ시작 전으로\n",
    "        else:\n",
    "            i = i -j +1\n",
    "            j = 0\n",
    "    if j == M: #패턴 탐색 성공\n",
    "        return i - M\n",
    "    else:\n",
    "        return -1\n",
    "print(bf(p, t, N, M))"
   ]
  },
  {
   "cell_type": "code",
   "execution_count": 6,
   "metadata": {},
   "outputs": [
    {
     "name": "stdout",
     "output_type": "stream",
     "text": [
      "3\n"
     ]
    }
   ],
   "source": [
    "p = 'ab'\n",
    "t = 'aaaabaaaabaaaab'\n",
    "M = len(p)\n",
    "N = len(t)\n",
    "\n",
    "def bf2(p, t, N, M):\n",
    "    for i in range(N-M+1):\n",
    "        for j in range(M):\n",
    "            if t[i+j] != p[j]:\n",
    "                break\n",
    "        else:\n",
    "            return i\n",
    "    return -1\n",
    "print(bf2(p,t,N,M))"
   ]
  },
  {
   "cell_type": "code",
   "execution_count": 8,
   "metadata": {},
   "outputs": [
    {
     "name": "stdout",
     "output_type": "stream",
     "text": [
      "4\n"
     ]
    }
   ],
   "source": [
    "#패턴 개수 출력하기\n",
    "p = 'aba'\n",
    "t = 'aabaabababa'\n",
    "M = len(p)\n",
    "N = len(t)\n",
    "def bf2(p, t, N, M):\n",
    "    cnt = 0\n",
    "    for i in range(N-M+1):\n",
    "        for j in range(M):\n",
    "            if t[i+j] != p[j]:\n",
    "                break\n",
    "        else:\n",
    "            cnt +=1\n",
    "    return cnt\n",
    "print(bf2(p,t,N,M))"
   ]
  },
  {
   "cell_type": "code",
   "execution_count": 10,
   "metadata": {},
   "outputs": [
    {
     "name": "stdout",
     "output_type": "stream",
     "text": [
      "{'a': 5, 'b': 4, 'c': 3, 'd': 6, 'e': 2, 'f': 1}\n",
      "res:  -1 7\n"
     ]
    }
   ],
   "source": [
    "#보이어 무어\n",
    "def bm_search(txt, pat):\n",
    "    #txt 인덱스\n",
    "    ti = 0\n",
    "    #pat 인덱스\n",
    "    pi = 0\n",
    "    n = len(txt) #텍스트 길이\n",
    "    m = len(pat) #패턴 길이\n",
    "\n",
    "    skip = {}\n",
    "\n",
    "    #패턴 안에 있는 문자는 몇 칸 건너뛸지 건네준다\n",
    "    for p in pat:\n",
    "        skip[p] = m - pat.rfind(p)\n",
    "    #만약 딕셔너리에 없는 경우는 패턴에 없다는 뜻이니가 그냥 패턴의 길이만큼 건너뜀\n",
    "    print(skip)\n",
    "\n",
    "    #패턴의 제일 뒤 글자부터 비교\n",
    "    ti = m -1\n",
    "    while ti < n:\n",
    "        pi = m -1 #패턴의 뒤에서부터 비교 시작\n",
    "\n",
    "        #같은 문자가 나오면 계속 앞으로 이동\n",
    "        #다른 문자가 나오면 건너뛰기 표를 참고해서skip\n",
    "        while txt[ti] == pat[pi]:\n",
    "            if pi == 0:\n",
    "                #패턴의 맨 앞까지 와버리면 뒤에 있는 글자는 모두 같음\n",
    "                # 기준 위치인 ti 리턴\n",
    "                return ti\n",
    "            ti -= 1\n",
    "            pi -= 1\n",
    "        #건너뛰기 표에 있는 문자가 나오면 표에 적힌대로 skip\n",
    "        #건너뛰기 표에 없는 문자가 나오면 패턴의 길이만큼 skip\n",
    "        offset = skip.get(txt[ti]) if skip.get(txt[ti]) else m\n",
    "        #다시 비교를 시작할 위치를 정해준다\n",
    "        #우ㅟ에서 계산한 건너뛰기 만큼 이동\n",
    "        ti += offset if offset > m - pi else m - pi\n",
    "    #여기까지 오면 패턴 못찾음\n",
    "    return -1\n",
    "t = 'zzzabcdabcdabcefabcd'\n",
    "p = 'abcdabcef'\n",
    "print(f'res: ', bm_search(t, p), t.find(p))"
   ]
  },
  {
   "cell_type": "code",
   "execution_count": 12,
   "metadata": {},
   "outputs": [],
   "source": [
    "#최대공약수(GCD)\n",
    "def gcd(a, b):\n",
    "    for i in range(b, 0, -1):\n",
    "        if a % i == 0 and b % i ==0:\n",
    "            return i"
   ]
  },
  {
   "cell_type": "code",
   "execution_count": 16,
   "metadata": {},
   "outputs": [],
   "source": [
    "#유클리드 호재법(GCD를 효율적으로 구하는 알고리즘)\n",
    "def new_gcd(a, b):\n",
    "    #컨셉\n",
    "    #a % b == 0\n",
    "    #return b\n",
    "    #else:\n",
    "    # gcd(b, a %b)\n",
    "    if b == 0:\n",
    "        return a\n",
    "    else:\n",
    "        return new_gcd(b, a%b)"
   ]
  },
  {
   "cell_type": "code",
   "execution_count": 17,
   "metadata": {},
   "outputs": [],
   "source": [
    "#최소공배수(LCM)\n",
    "def lcm(a, b):\n",
    "    return a*b // gcd(a,b)"
   ]
  },
  {
   "cell_type": "code",
   "execution_count": 18,
   "metadata": {},
   "outputs": [
    {
     "name": "stdout",
     "output_type": "stream",
     "text": [
      "5\n",
      "5\n",
      "60\n"
     ]
    }
   ],
   "source": [
    "a = 20\n",
    "b = 15\n",
    "print(gcd(a, b))\n",
    "print(new_gcd(a,b))\n",
    "print(lcm(a, b))"
   ]
  },
  {
   "cell_type": "code",
   "execution_count": 24,
   "metadata": {},
   "outputs": [],
   "source": [
    "prime = []\n",
    "for i in range(2, 1000):\n",
    "    # i를 기준으로 해서 i를 j로 나눴을때 나머지가 0이면 배수 ==> 체크\n",
    "    # j의 범위는 2 <= j < i\n",
    "    for j in range(2, i):\n",
    "        if i % j == 0:\n",
    "            break\n",
    "    else:\n",
    "        prime.append(i)\n",
    "\n",
    "n = 1000  # 2 부터 1000까지의 모든 수에 대하여 소수 판별\n",
    "is_prime = [True for i in range(n + 1)]  # 처음엔 모든 수가 소수인 것으로 초기화\n",
    "\n",
    "for i in range(2, int(n ** 0.5) + 1):  # 2부터 n의 제곱근까지만 확인해도 된다.\n",
    "    if is_prime[i]:  # i가 소수인 경우\n",
    "        # i를 제외한 모든 i의 배수를 지우면 된다. (False로 체크)\n",
    "        j = 2\n",
    "        while i * j <= n:\n",
    "            is_prime[i * j] = False\n",
    "            j += 1\n",
    "\n",
    "print(prime)"
   ]
  },
  {
   "cell_type": "code",
   "execution_count": null,
   "metadata": {},
   "outputs": [],
   "source": []
  }
 ],
 "metadata": {
  "kernelspec": {
   "display_name": "Python 3",
   "language": "python",
   "name": "python3"
  },
  "language_info": {
   "codemirror_mode": {
    "name": "ipython",
    "version": 3
   },
   "file_extension": ".py",
   "mimetype": "text/x-python",
   "name": "python",
   "nbconvert_exporter": "python",
   "pygments_lexer": "ipython3",
   "version": "3.9.13"
  },
  "orig_nbformat": 4,
  "vscode": {
   "interpreter": {
    "hash": "c4b9ebf4ca459396e2ad1150752490c26670c1a037c08cad955a4425787bec2e"
   }
  }
 },
 "nbformat": 4,
 "nbformat_minor": 2
}
