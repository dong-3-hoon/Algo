{
 "cells": [
  {
   "cell_type": "code",
   "execution_count": 2,
   "metadata": {},
   "outputs": [
    {
     "name": "stdout",
     "output_type": "stream",
     "text": [
      "1 2 3 [1, 1, 1]\n",
      "1 2 [1, 1, 0]\n",
      "1 3 [1, 0, 1]\n",
      "1 [1, 0, 0]\n",
      "2 3 [0, 1, 1]\n",
      "2 [0, 1, 0]\n",
      "3 [0, 0, 1]\n",
      "[0, 0, 0]\n"
     ]
    }
   ],
   "source": [
    "# 부분집합 구하기\n",
    "def f(i, k):\n",
    "    if i == k:  # 하나의 부분집합 완성\n",
    "        for j in range(k):\n",
    "            if bit[j]:\n",
    "                print(A[j], end = ' ')\n",
    "        # print()\n",
    "        print(bit)\n",
    "    else:\n",
    "        # 1 넣는 경우와 0 넣는 경우 비교\n",
    "        bit[i] = 1\n",
    "        f(i+1, k)\n",
    "        bit[i] = 0\n",
    "        f(i+1, k)\n",
    "    \n",
    "A = [1, 2, 3]\n",
    "N = len(A)\n",
    "bit = [0]*N\n",
    "f(0, N)"
   ]
  },
  {
   "cell_type": "code",
   "execution_count": 5,
   "metadata": {},
   "outputs": [
    {
     "name": "stdout",
     "output_type": "stream",
     "text": [
      "[1, 1, 1] 6\n",
      "[1, 1, 0] 3\n",
      "[1, 0, 1] 4\n",
      "[1, 0, 0] 1\n",
      "[0, 1, 1] 5\n",
      "[0, 1, 0] 2\n",
      "[0, 0, 1] 3\n",
      "[0, 0, 0] 0\n"
     ]
    }
   ],
   "source": [
    "# 부분집합의 합\n",
    "def f(i, k):\n",
    "    if i == k:\n",
    "        s = 0\n",
    "        for j in range(k):\n",
    "            if bit[j]:\n",
    "                s += A[j]\n",
    "        # print()\n",
    "        print(bit, s)\n",
    "    else:\n",
    "        bit[i] = 1\n",
    "        f(i+1, k)\n",
    "        bit[i] = 0\n",
    "        f(i+1, k)\n",
    "    \n",
    "A = [1, 2, 3]\n",
    "N = len(A)\n",
    "bit = [0]*N\n",
    "f(0, N)"
   ]
  },
  {
   "cell_type": "code",
   "execution_count": 9,
   "metadata": {},
   "outputs": [
    {
     "name": "stdout",
     "output_type": "stream",
     "text": [
      "1 2 3 4 \n",
      "1 2 7 \n",
      "1 3 6 \n",
      "1 4 5 \n",
      "1 9 \n",
      "2 3 5 \n",
      "2 8 \n",
      "3 7 \n",
      "4 6 \n",
      "10 \n"
     ]
    }
   ],
   "source": [
    "# 부분집합의 합이 10이면 출력\n",
    "def f(i, k, key):\n",
    "    if i == k:\n",
    "        s = 0\n",
    "        for j in range(k):\n",
    "            if bit[j]:\n",
    "                s += A[j]\n",
    "        # print()\n",
    "        if s == key:\n",
    "            for j in range(k):\n",
    "                if bit[j]:\n",
    "                    print(A[j], end = ' ')\n",
    "            print()\n",
    "    else:\n",
    "        bit[i] = 1\n",
    "        f(i+1, k, key)\n",
    "        bit[i] = 0\n",
    "        f(i+1, k, key)\n",
    "    \n",
    "A = [1, 2, 3, 4, 5, 6, 7, 8, 9, 10]\n",
    "N = len(A)\n",
    "key = 10\n",
    "bit = [0]*N\n",
    "f(0, N, key)"
   ]
  },
  {
   "cell_type": "code",
   "execution_count": 19,
   "metadata": {},
   "outputs": [
    {
     "name": "stdout",
     "output_type": "stream",
     "text": [
      "1\n"
     ]
    }
   ],
   "source": [
    "# 부분집합의 합이 10인 경우가 있는지 출력\n",
    "def f(i, k, key):\n",
    "    if i == k:\n",
    "        s = 0\n",
    "        for j in range(k):\n",
    "            if bit[j]:\n",
    "                s += A[j]\n",
    "        if s == key:\n",
    "            return 1\n",
    "        else:\n",
    "            return 0\n",
    "    else:\n",
    "        bit[i] = 1\n",
    "        if f(i+1, k, key):\n",
    "            return 1\n",
    "        bit[i] = 0\n",
    "        if f(i+1, k, key):\n",
    "            return 1\n",
    "        return 0\n",
    "A = [1, 2, 3, 4, 5, 6, 7, 8, 9, 10]\n",
    "N = len(A)\n",
    "key = 10\n",
    "bit = [0]*N\n",
    "print(f(0, N, key))"
   ]
  },
  {
   "cell_type": "code",
   "execution_count": 28,
   "metadata": {},
   "outputs": [
    {
     "name": "stdout",
     "output_type": "stream",
     "text": [
      "1 2 3 4 \n",
      "1 2 7 \n",
      "1 3 6 \n",
      "1 4 5 \n",
      "1 9 \n",
      "2 3 5 \n",
      "2 8 \n",
      "3 7 \n",
      "4 6 \n",
      "10 \n",
      "10\n"
     ]
    }
   ],
   "source": [
    "# 부분집합의 합이 i일 때 집합 - 가지치기\n",
    "def f(i, k, s, t): # i: 원소, k: 집합의 크기, s: 부분집합의 합, t: 목표값\n",
    "    global cnt\n",
    "    if i == k:\n",
    "        if s == t:\n",
    "            for j in range(k):\n",
    "                if bit[j]:\n",
    "                    print(A[j], end = ' ')\n",
    "            print()\n",
    "            cnt += 1\n",
    "        return\n",
    "    else:\n",
    "        bit[i] = 1\n",
    "        f(i + 1, k, s+A[i], t)  # A[i] 가 포함\n",
    "        bit[i] = 0\n",
    "        f(i + 1, k, s, t)  # A[i] 포함x\n",
    "A = [1, 2, 3, 4, 5, 6, 7, 8, 9, 10]\n",
    "N = len(A)\n",
    "key = 10\n",
    "cnt = 0\n",
    "bit = [0]*N\n",
    "f(0, N, 0, key)\n",
    "print(cnt)  # 합이 key인 부분집합의 개수"
   ]
  },
  {
   "cell_type": "code",
   "execution_count": 33,
   "metadata": {},
   "outputs": [
    {
     "name": "stdout",
     "output_type": "stream",
     "text": [
      "10 2047\n"
     ]
    }
   ],
   "source": [
    "# 부분집합의 합이 i일 때 집합 - 가지치기\n",
    "def f(i, k, s, t): # i: 원소, k: 집합의 크기, s: 부분집합의 합, t: 목표값\n",
    "    global cnt\n",
    "    global fcnt\n",
    "    fcnt += 1\n",
    "    if i == k:\n",
    "        if s == t:\n",
    "            cnt += 1\n",
    "        return\n",
    "    else:\n",
    "        # 1 넣는 경우와 0 넣는 경우 비교\n",
    "        bit[i] = 1\n",
    "        f(i + 1, k, s+A[i], t)  # A[i] 가 포함\n",
    "        bit[i] = 0\n",
    "        f(i + 1, k, s, t)  # A[i] 포함x\n",
    "A = [i for i in range(1, N+1)]\n",
    "N = len(A)\n",
    "key = 10\n",
    "cnt = 0\n",
    "fcnt = 0\n",
    "bit = [0]*N\n",
    "f(0, N, 0, key)\n",
    "print(cnt, fcnt)  # 합이 key인 부분집합의 개수"
   ]
  },
  {
   "cell_type": "code",
   "execution_count": 32,
   "metadata": {},
   "outputs": [
    {
     "name": "stdout",
     "output_type": "stream",
     "text": [
      "10 415\n"
     ]
    }
   ],
   "source": [
    "# 부분집합의 합이 i일 때 집합 - 가지치기\n",
    "def f(i, k, s, t): # i: 원소, k: 집합의 크기, s: 부분집합의 합, t: 목표값\n",
    "    global cnt\n",
    "    global fcnt\n",
    "    fcnt += 1\n",
    "    if s > t: # 목표값보다 합이 클 경우(가지치기)\n",
    "        return\n",
    "    if i == k:\n",
    "        if s == t:\n",
    "            cnt += 1\n",
    "        return\n",
    "    else:\n",
    "        # 1 넣는 경우와 0 넣는 경우 비교\n",
    "        bit[i] = 1\n",
    "        f(i + 1, k, s+A[i], t)  # A[i] 가 포함\n",
    "        bit[i] = 0\n",
    "        f(i + 1, k, s, t)  # A[i] 포함x\n",
    "\n",
    "N = 10\n",
    "A = [i for i in range(1, N+1)]\n",
    "key = 10\n",
    "cnt = 0\n",
    "fcnt = 0\n",
    "bit = [0]*N\n",
    "f(0, N, 0, key)\n",
    "print(cnt, fcnt)  # 합이 key인 부분집합의 개수"
   ]
  },
  {
   "cell_type": "code",
   "execution_count": 35,
   "metadata": {},
   "outputs": [
    {
     "name": "stdout",
     "output_type": "stream",
     "text": [
      "1 2047\n"
     ]
    }
   ],
   "source": [
    "# 부분집합의 합이 i일 때 집합 - 가지치기\n",
    "def f(i, k, s, t): # i: 원소, k: 집합의 크기, s: 부분집합의 합, t: 목표값\n",
    "    global cnt\n",
    "    global fcnt\n",
    "    fcnt += 1\n",
    "    if s > t: # 목표값보다 합이 클 경우(가지치기)\n",
    "        return\n",
    "    elif s == t:  # 목표 도달(남은 원소 고려 필요 x)\n",
    "        cnt += 1\n",
    "        return\n",
    "    elif i == k:  #모든 원소 고려\n",
    "        return\n",
    "    else:\n",
    "        # 1 넣는 경우와 0 넣는 경우 비교\n",
    "        bit[i] = 1\n",
    "        f(i + 1, k, s+A[i], t)  # A[i] 가 포함\n",
    "        bit[i] = 0\n",
    "        f(i + 1, k, s, t)  # A[i] 포함x\n",
    "\n",
    "\n",
    "N = 10\n",
    "A = [i for i in range(1, N+1)]\n",
    "key = 55\n",
    "cnt = 0\n",
    "fcnt = 0\n",
    "bit = [0]*N\n",
    "f(0, N, 0, key)\n",
    "print(cnt, fcnt)  # 합이 key인 부분집합의 개수"
   ]
  },
  {
   "cell_type": "code",
   "execution_count": null,
   "metadata": {},
   "outputs": [],
   "source": [
    "# 남은 구간의 합을 구해도 찾는 값 미만인 경우 중단\n",
    "# total 을 구한 후 total - s 로 구한다."
   ]
  },
  {
   "cell_type": "code",
   "execution_count": 40,
   "metadata": {},
   "outputs": [
    {
     "name": "stdout",
     "output_type": "stream",
     "text": [
      "[1, 2, 3]\n",
      "[1, 3, 2]\n",
      "[2, 1, 3]\n",
      "[2, 3, 1]\n",
      "[3, 2, 1]\n",
      "[3, 1, 2]\n"
     ]
    }
   ],
   "source": [
    "# 순열 - 자기 자신을 뒤의 원소들과 교환하면서 순열의 개수를 세는 방법\n",
    "def f(i, k):\n",
    "    if i == k:\n",
    "        print(p)\n",
    "    else:\n",
    "        for j in range(i, k):\n",
    "            # i, j를 교환한 후 다시 바꿔줌\n",
    "            p[i], p[j] = p[j], p[i]\n",
    "            # 여기서 결정된 p[i]에 대한 작업 가능\n",
    "            f(i + 1, k)\n",
    "            p[i], p[j] = p[j], p[i]\n",
    "p = [1, 2, 3]\n",
    "N = len(p)\n",
    "f(0, N)"
   ]
  },
  {
   "cell_type": "code",
   "execution_count": null,
   "metadata": {},
   "outputs": [],
   "source": []
  },
  {
   "cell_type": "code",
   "execution_count": null,
   "metadata": {},
   "outputs": [],
   "source": []
  }
 ],
 "metadata": {
  "kernelspec": {
   "display_name": "Python 3",
   "language": "python",
   "name": "python3"
  },
  "language_info": {
   "codemirror_mode": {
    "name": "ipython",
    "version": 3
   },
   "file_extension": ".py",
   "mimetype": "text/x-python",
   "name": "python",
   "nbconvert_exporter": "python",
   "pygments_lexer": "ipython3",
   "version": "3.9.13"
  },
  "orig_nbformat": 4,
  "vscode": {
   "interpreter": {
    "hash": "c4b9ebf4ca459396e2ad1150752490c26670c1a037c08cad955a4425787bec2e"
   }
  }
 },
 "nbformat": 4,
 "nbformat_minor": 2
}
