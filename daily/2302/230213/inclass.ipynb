{
 "cells": [
  {
   "cell_type": "code",
   "execution_count": 4,
   "metadata": {},
   "outputs": [
    {
     "name": "stdout",
     "output_type": "stream",
     "text": [
      "30\n",
      "20\n",
      "10\n",
      "30\n"
     ]
    }
   ],
   "source": [
    "stack = [0] * 3\n",
    "top = -1\n",
    "#push(10)\n",
    "top += 1\n",
    "stack[top] = 10\n",
    "\n",
    "#push(20)\n",
    "top += 1\n",
    "stack[top] = 20\n",
    "\n",
    "#push(30)\n",
    "top += 1\n",
    "stack[top] = 30\n",
    "\n",
    "top -= 1\n",
    "print(stack[top+1])\n",
    "\n",
    "top -= 1\n",
    "print(stack[top+1])\n",
    "\n",
    "top -= 1\n",
    "print(stack[top+1])\n",
    "\n",
    "top -= 1 #마지막 인덱스를 꺼내게 됨\n",
    "print(stack[top+1])"
   ]
  },
  {
   "cell_type": "code",
   "execution_count": 3,
   "metadata": {},
   "outputs": [
    {
     "name": "stdout",
     "output_type": "stream",
     "text": [
      "[0, 1, 2, 3, 4, 5, 6, 7, 8, 9]\n",
      "9\n",
      "9 8 7 6 5 4 3 2 1 0 \n"
     ]
    }
   ],
   "source": [
    "# 배열의 메서드를 활용해 stack 구현\n",
    "stack = []\n",
    "def push(item):\n",
    "    stack.append(item)\n",
    "def pop():\n",
    "    if len(stack) == 0:\n",
    "        return\n",
    "    else:\n",
    "        return stack.pop()\n",
    "for i in range(10):\n",
    "    push(i)\n",
    "def peek():\n",
    "    return stack[-1]\n",
    "print(stack)\n",
    "print(peek())\n",
    "for i in range(10):\n",
    "    print(pop(), end = ' ')\n",
    "print()"
   ]
  },
  {
   "cell_type": "code",
   "execution_count": 8,
   "metadata": {},
   "outputs": [
    {
     "name": "stdout",
     "output_type": "stream",
     "text": [
      "[0, 1, 2, 3, 4, 5, 6, 7, 8, 9]\n",
      "9 8 7 6 5 4 3 2 1 0 "
     ]
    }
   ],
   "source": [
    "# 직접 stack 구현 - 크기를 직접 초기화해서 사용해야 함\n",
    "# 스택 초기화\n",
    "top = -1\n",
    "size = 10\n",
    "stack = [0] * 10\n",
    "\n",
    "def my_push(item):\n",
    "    # push를 하고 나면 꼭대기를 가르키는 top이 변하기 때문에 global 선언\n",
    "    global top\n",
    "    top += 1\n",
    "    if top == size:\n",
    "        print('stack overflow')\n",
    "    else:\n",
    "        stack[top] = item\n",
    "def my_pop():\n",
    "    global top\n",
    "    if top == -1:\n",
    "        print('stack underflow')\n",
    "        return\n",
    "    else:\n",
    "        top -= 1\n",
    "        return stack[top + 1]\n",
    "for i in range(10):\n",
    "    my_push(i)\n",
    "print(stack)\n",
    "for i in range(10):\n",
    "    print(my_pop(), end=' ')"
   ]
  },
  {
   "cell_type": "code",
   "execution_count": null,
   "metadata": {},
   "outputs": [],
   "source": [
    "# 괄호 검사\n",
    "# bracket 참조"
   ]
  }
 ],
 "metadata": {
  "kernelspec": {
   "display_name": "Python 3",
   "language": "python",
   "name": "python3"
  },
  "language_info": {
   "codemirror_mode": {
    "name": "ipython",
    "version": 3
   },
   "file_extension": ".py",
   "mimetype": "text/x-python",
   "name": "python",
   "nbconvert_exporter": "python",
   "pygments_lexer": "ipython3",
   "version": "3.9.13 (tags/v3.9.13:6de2ca5, May 17 2022, 16:36:42) [MSC v.1929 64 bit (AMD64)]"
  },
  "orig_nbformat": 4,
  "vscode": {
   "interpreter": {
    "hash": "c4b9ebf4ca459396e2ad1150752490c26670c1a037c08cad955a4425787bec2e"
   }
  }
 },
 "nbformat": 4,
 "nbformat_minor": 2
}
