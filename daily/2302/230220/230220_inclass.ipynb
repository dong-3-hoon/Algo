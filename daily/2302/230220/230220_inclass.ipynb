{
 "cells": [
  {
   "cell_type": "code",
   "execution_count": 1,
   "metadata": {},
   "outputs": [
    {
     "name": "stdout",
     "output_type": "stream",
     "text": [
      "1\n",
      "2\n",
      "3\n"
     ]
    }
   ],
   "source": [
    "# 큐 구현\n",
    "def enqueue(data):\n",
    "    global rear\n",
    "    rear += 1\n",
    "    queue[rear] = data\n",
    "def dequeue():\n",
    "    global front\n",
    "    front += 1\n",
    "    return queue[front]\n",
    "queue = [0] * 10\n",
    "front = -1\n",
    "rear = -1\n",
    "rear += 1 # enqueue(1)\n",
    "queue[rear] = 1\n",
    "enqueue(2)\n",
    "enqueue(3)\n",
    "\n",
    "print(dequeue())\n",
    "print(dequeue())\n",
    "print(dequeue())"
   ]
  },
  {
   "cell_type": "code",
   "execution_count": 2,
   "metadata": {},
   "outputs": [
    {
     "name": "stdout",
     "output_type": "stream",
     "text": [
      "1\n",
      "2\n",
      "3\n"
     ]
    },
    {
     "ename": "IndexError",
     "evalue": "list index out of range",
     "output_type": "error",
     "traceback": [
      "\u001b[1;31m---------------------------------------------------------------------------\u001b[0m",
      "\u001b[1;31mIndexError\u001b[0m                                Traceback (most recent call last)",
      "Cell \u001b[1;32mIn[2], line 20\u001b[0m\n\u001b[0;32m     18\u001b[0m \u001b[39mprint\u001b[39m(dequeue())\n\u001b[0;32m     19\u001b[0m \u001b[39mprint\u001b[39m(dequeue())\n\u001b[1;32m---> 20\u001b[0m \u001b[39mprint\u001b[39m(dequeue())\n",
      "Cell \u001b[1;32mIn[2], line 8\u001b[0m, in \u001b[0;36mdequeue\u001b[1;34m()\u001b[0m\n\u001b[0;32m      6\u001b[0m \u001b[39mglobal\u001b[39;00m front\n\u001b[0;32m      7\u001b[0m front \u001b[39m+\u001b[39m\u001b[39m=\u001b[39m \u001b[39m1\u001b[39m\n\u001b[1;32m----> 8\u001b[0m \u001b[39mreturn\u001b[39;00m queue[front]\n",
      "\u001b[1;31mIndexError\u001b[0m: list index out of range"
     ]
    }
   ],
   "source": [
    "# 지정된 큐보다 많은 원소 꺼낼 시 에러\n",
    "def enqueue(data):\n",
    "    global rear\n",
    "    rear += 1\n",
    "    queue[rear] = data\n",
    "def dequeue():\n",
    "    global front\n",
    "    front += 1\n",
    "    return queue[front]\n",
    "queue = [0] * 3\n",
    "front = -1\n",
    "rear = -1\n",
    "rear += 1 # enqueue(1)\n",
    "queue[rear] = 1\n",
    "enqueue(2)\n",
    "enqueue(3)\n",
    "\n",
    "print(dequeue())\n",
    "print(dequeue())\n",
    "print(dequeue())\n",
    "print(dequeue())"
   ]
  },
  {
   "cell_type": "code",
   "execution_count": 3,
   "metadata": {},
   "outputs": [
    {
     "name": "stdout",
     "output_type": "stream",
     "text": [
      "1\n",
      "2\n",
      "3\n"
     ]
    }
   ],
   "source": [
    "# 에러 방지\n",
    "def enqueue(data):\n",
    "    global rear\n",
    "    rear += 1\n",
    "    queue[rear] = data\n",
    "def dequeue():\n",
    "    global front\n",
    "    front += 1\n",
    "    return queue[front]\n",
    "queue = [0] * 3\n",
    "front = -1\n",
    "rear = -1\n",
    "rear += 1 # enqueue(1)\n",
    "queue[rear] = 1\n",
    "enqueue(2)\n",
    "enqueue(3)\n",
    "\n",
    "print(dequeue())\n",
    "print(dequeue())\n",
    "if front != rear:\n",
    "    print(dequeue())\n",
    "if front != rear:\n",
    "    print(dequeue())"
   ]
  },
  {
   "cell_type": "code",
   "execution_count": 5,
   "metadata": {},
   "outputs": [
    {
     "name": "stdout",
     "output_type": "stream",
     "text": [
      "1\n",
      "2\n",
      "3\n",
      "10\n",
      "20\n",
      "30\n"
     ]
    }
   ],
   "source": [
    "# 에러 방지\n",
    "def enqueue(data):\n",
    "    global rear\n",
    "    rear += 1\n",
    "    queue[rear] = data\n",
    "def dequeue():\n",
    "    global front\n",
    "    front += 1\n",
    "    return queue[front]\n",
    "queue = [0] * 3\n",
    "front = -1\n",
    "rear = -1\n",
    "rear += 1 # enqueue(1)\n",
    "queue[rear] = 1\n",
    "enqueue(2)\n",
    "enqueue(3)\n",
    "\n",
    "print(dequeue())\n",
    "print(dequeue())\n",
    "if front != rear:\n",
    "    print(dequeue())\n",
    "if front != rear:\n",
    "    print(dequeue())\n",
    "q = []\n",
    "q.append(10)\n",
    "q.append(20)\n",
    "q.append(30)\n",
    "print(q.pop(0))\n",
    "print(q.pop(0))\n",
    "print(q.pop(0))"
   ]
  },
  {
   "cell_type": "code",
   "execution_count": 6,
   "metadata": {},
   "outputs": [
    {
     "name": "stdout",
     "output_type": "stream",
     "text": [
      "1\n",
      "2\n",
      "3\n",
      "10\n",
      "20\n",
      "30\n",
      "100\n",
      "200\n",
      "300\n"
     ]
    }
   ],
   "source": [
    "# \n",
    "from collections import deque\n",
    "def enqueue(data):\n",
    "    global rear\n",
    "    rear += 1\n",
    "    queue[rear] = data\n",
    "def dequeue():\n",
    "    global front\n",
    "    front += 1\n",
    "    return queue[front]\n",
    "queue = [0] * 3\n",
    "front = -1\n",
    "rear = -1\n",
    "rear += 1 # enqueue(1)\n",
    "queue[rear] = 1\n",
    "enqueue(2)\n",
    "enqueue(3)\n",
    "\n",
    "print(dequeue())\n",
    "print(dequeue())\n",
    "if front != rear:\n",
    "    print(dequeue())\n",
    "if front != rear:\n",
    "    print(dequeue())\n",
    "q = []\n",
    "q.append(10)\n",
    "q.append(20)\n",
    "q.append(30)\n",
    "print(q.pop(0))\n",
    "print(q.pop(0))\n",
    "print(q.pop(0))\n",
    "\n",
    "q1 = deque()\n",
    "q1.append(100)\n",
    "q1.append(200)\n",
    "q1.append(300)\n",
    "print(q1.popleft())\n",
    "print(q1.popleft())\n",
    "print(q1.popleft())"
   ]
  },
  {
   "cell_type": "code",
   "execution_count": null,
   "metadata": {},
   "outputs": [],
   "source": []
  }
 ],
 "metadata": {
  "kernelspec": {
   "display_name": "Python 3",
   "language": "python",
   "name": "python3"
  },
  "language_info": {
   "codemirror_mode": {
    "name": "ipython",
    "version": 3
   },
   "file_extension": ".py",
   "mimetype": "text/x-python",
   "name": "python",
   "nbconvert_exporter": "python",
   "pygments_lexer": "ipython3",
   "version": "3.9.13"
  },
  "orig_nbformat": 4,
  "vscode": {
   "interpreter": {
    "hash": "c4b9ebf4ca459396e2ad1150752490c26670c1a037c08cad955a4425787bec2e"
   }
  }
 },
 "nbformat": 4,
 "nbformat_minor": 2
}
