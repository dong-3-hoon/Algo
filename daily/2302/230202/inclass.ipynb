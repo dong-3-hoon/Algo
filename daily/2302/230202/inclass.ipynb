{
 "cells": [
  {
   "cell_type": "code",
   "execution_count": 56,
   "metadata": {},
   "outputs": [
    {
     "name": "stdout",
     "output_type": "stream",
     "text": [
      "[0, 1, 1, 1, 2, 3, 4, 4]\n"
     ]
    }
   ],
   "source": [
    "#counting sort\n",
    "data = [0, 4, 1, 3, 1, 2, 4, 1]\n",
    "counts = [0] * (max(data)+1)\n",
    "temp = [0] * len(data)\n",
    "#counts = list(range(max(data)+1, 0))\n",
    "for j in data: #data 배열에서 어떤 값을 몇개 갖고 있는지\n",
    "    counts[j]+=1\n",
    "\n",
    "for k in range(1, len(counts)): # 누적합 계산\n",
    "    counts[k] += counts[k-1]\n",
    "\n",
    "for m in range(len(data)-1, -1, -1):\n",
    "    counts[data[m]] -= 1\n",
    "    temp[counts[data[m]]] = data[m]\n",
    "print(temp)"
   ]
  },
  {
   "cell_type": "code",
   "execution_count": 68,
   "metadata": {},
   "outputs": [
    {
     "name": "stdout",
     "output_type": "stream",
     "text": [
      "[4, 4, 3, 2, 1, 1, 1, 0]\n"
     ]
    }
   ],
   "source": [
    "#counting sort 내림차순\n",
    "data = [0,4,1,3,1,2,4,1]\n",
    "temp = [0] * (len(data))\n",
    "cnt = [0] * (max(data) + 1)\n",
    "for j in data: #data 배열에서 어떤 값을 몇개 갖고 있는지\n",
    "    cnt[j]+=1\n",
    "for k in range(len(cnt) -2 , -1, -1): # 내림차순 계산 - 맨 뒤에서부터 계산한다\n",
    "    cnt[k] += cnt[k+1]\n",
    "for m in range(len(data)):\n",
    "    cnt[data[m]] -= 1\n",
    "    temp[cnt[data[m]]] = data[m]\n",
    "print(temp)\n",
    "#[4, 4, 3, 2, 1, 1, 1, 0]"
   ]
  },
  {
   "cell_type": "code",
   "execution_count": null,
   "metadata": {},
   "outputs": [],
   "source": []
  }
 ],
 "metadata": {
  "kernelspec": {
   "display_name": "Python 3",
   "language": "python",
   "name": "python3"
  },
  "language_info": {
   "codemirror_mode": {
    "name": "ipython",
    "version": 3
   },
   "file_extension": ".py",
   "mimetype": "text/x-python",
   "name": "python",
   "nbconvert_exporter": "python",
   "pygments_lexer": "ipython3",
   "version": "3.9.13 (tags/v3.9.13:6de2ca5, May 17 2022, 16:36:42) [MSC v.1929 64 bit (AMD64)]"
  },
  "orig_nbformat": 4,
  "vscode": {
   "interpreter": {
    "hash": "069a4b0f9cb848369c7f231af9da0e0e75ce83dd710487087cd0af8c66418f73"
   }
  }
 },
 "nbformat": 4,
 "nbformat_minor": 2
}
