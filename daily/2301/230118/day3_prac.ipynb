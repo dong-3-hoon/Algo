{
 "cells": [
  {
   "cell_type": "code",
   "execution_count": 3,
   "metadata": {},
   "outputs": [
    {
     "name": "stdout",
     "output_type": "stream",
     "text": [
      "최종위치: (3,4)\n"
     ]
    }
   ],
   "source": [
    "N=5\n",
    "list2=[[0]*N for _ in range(N)]\n",
    "\n",
    "now=[2,2]\n",
    "\n",
    "#하 우 우 로 움직이고 나서 좌표는 몇번일까요\n",
    "move=[1,3,3]\n",
    "\n",
    "#상하좌우 0123\n",
    "dx=[-1,1,0,0]\n",
    "dy=[0,0,-1,1]\n",
    "\n",
    "for i in move:\n",
    "    now[0]+=dx[i]\n",
    "    now[1]+=dy[i]\n",
    "print(now)\n",
    "'''\n",
    "for d in move:\n",
    "    nx=now[0]+dx[d]\n",
    "    ny=now[1]+dy[d]\n",
    "    now=[nx,ny]\n",
    "print(f\"최종위치: ({now[0]},{now[1]})\")\n",
    "'''\n",
    "#d=0 상\n",
    "#d=1 하\n",
    "#d=2 좌\n",
    "#d=3 우"
   ]
  },
  {
   "cell_type": "code",
   "execution_count": null,
   "metadata": {},
   "outputs": [],
   "source": [
    "#동서남북일때는?\n",
    "#우좌하상\n",
    "dx=[0,0,1,-1]\n",
    "dy=[1,-1,0,0]"
   ]
  }
 ],
 "metadata": {
  "kernelspec": {
   "display_name": "Python 3",
   "language": "python",
   "name": "python3"
  },
  "language_info": {
   "codemirror_mode": {
    "name": "ipython",
    "version": 3
   },
   "file_extension": ".py",
   "mimetype": "text/x-python",
   "name": "python",
   "nbconvert_exporter": "python",
   "pygments_lexer": "ipython3",
   "version": "3.9.13 (tags/v3.9.13:6de2ca5, May 17 2022, 16:36:42) [MSC v.1929 64 bit (AMD64)]"
  },
  "orig_nbformat": 4,
  "vscode": {
   "interpreter": {
    "hash": "c4b9ebf4ca459396e2ad1150752490c26670c1a037c08cad955a4425787bec2e"
   }
  }
 },
 "nbformat": 4,
 "nbformat_minor": 2
}
