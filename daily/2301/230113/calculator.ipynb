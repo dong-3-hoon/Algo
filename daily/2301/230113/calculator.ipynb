while True:
    a=float(input('n1: '))
    op=input()
    b=float(input('n2: '))

1   if op == "+":