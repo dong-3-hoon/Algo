{
 "cells": [
  {
   "cell_type": "code",
   "execution_count": 1,
   "metadata": {},
   "outputs": [
    {
     "name": "stdout",
     "output_type": "stream",
     "text": [
      "<class 'str'>\n"
     ]
    }
   ],
   "source": [
    "name = 'aiden'\n",
    "print(type(name))"
   ]
  },
  {
   "cell_type": "code",
   "execution_count": 5,
   "metadata": {},
   "outputs": [
    {
     "name": "stdout",
     "output_type": "stream",
     "text": [
      "생성될 때 자동으로 불림\n",
      "이 클래스를 하나의 문자열로 표현하면 이겁니다\n"
     ]
    },
    {
     "data": {
      "text/plain": [
       "\"\\naiden = Person()\\naiden.name = 'aiden'\\naiden.age = 23\\n\""
      ]
     },
     "execution_count": 5,
     "metadata": {},
     "output_type": "execute_result"
    }
   ],
   "source": [
    "class Person:\n",
    "\n",
    "    def __init__(self, name, age):\n",
    "        print('생성될 때 자동으로 불림')\n",
    "        self.name = name\n",
    "        self.age = age\n",
    "    def __str__(self):#person 클래스를 문자열로 만듬\n",
    "        return '이 클래스를 하나의 문자열로 표현하면 이겁니다'\n",
    "    def __gt__(self, other):#비교 시 호출\n",
    "        \n",
    "aiden = Person('aiden', 23)\n",
    "isaac = Person('issac', 19)\n",
    "print(aiden)\n",
    "print(aiden > issac)\n",
    "'''\n",
    "aiden = Person()\n",
    "aiden.name = 'aiden'\n",
    "aiden.age = 23\n",
    "'''"
   ]
  },
  {
   "cell_type": "code",
   "execution_count": 6,
   "metadata": {},
   "outputs": [
    {
     "name": "stdout",
     "output_type": "stream",
     "text": [
      "인구수는 2입니다\n",
      "인구수는 2입니다\n",
      "인구수는 2입니다\n"
     ]
    }
   ],
   "source": [
    "class Person:\n",
    "    count = 0\n",
    "    def __init__(self, name):\n",
    "        self.name = name\n",
    "        Person.count += 1\n",
    "\n",
    "    @classmethod\n",
    "    def number_of_population(cls):\n",
    "        print(f'인구수는 {cls.count}입니다')\n",
    "\n",
    "person1 = Person('아이유')\n",
    "person2 = Person('이찬혁')\n",
    "\n",
    "Person.number_of_population()\n",
    "person1.number_of_population()\n",
    "person2.number_of_population()"
   ]
  },
  {
   "cell_type": "code",
   "execution_count": 13,
   "metadata": {},
   "outputs": [
    {
     "name": "stdout",
     "output_type": "stream",
     "text": [
      "이름: avante, 차량 번호: 1234, 속도: 50\n",
      "True\n",
      "50\n"
     ]
    }
   ],
   "source": [
    "#자동차 클래스의 속성\n",
    "#자동차 총 수, 자동차의 차량 번호, 자동차의 이름, 자동차의 속도\n",
    "#자동차 클래스의 기능\n",
    "#자동차의 속도를 파라미터만큼 증가시키는 메서드\n",
    "#자동차의 속도를 파라미터만큼 감소시키는 메서드\n",
    "#자동차 클래스를 print를 통해 출력할때는\n",
    "#이름: 자동차 이름, 차량번호: 차량 번호, 속도: 속도\n",
    "#자동차 인스턴스 비교 할 때 차량번호가 같으면 같은 자동차로 취급한다.\n",
    "#자동차 클래스 생성\n",
    "class Car:\n",
    "    count = 0\n",
    "    def __init__(self, num, name):\n",
    "        self.num = num\n",
    "        self.name = name\n",
    "        self.speed = 0 #인스턴스마다 각자 다른 값을 가짐\n",
    "        Car.count += 1\n",
    "    def accelerate(self, speed):\n",
    "        self.speed += speed\n",
    "    def slow_down(self, speed):\n",
    "        self.speed -= speed\n",
    "    def __str__(self):\n",
    "        return f\"이름: {self.name}, 차량 번호: {self.num}, 속도: {self.speed}\"\n",
    "    \n",
    "    #other: 비교 대상 객체\n",
    "    def __eq__(self, other):\n",
    "        return self.num == other.num\n",
    "avante = Car(1234, 'avante')\n",
    "carnival = Car(1234, 'Carnival')\n",
    "avante.accelerate(100)\n",
    "avante.slow_down(50)\n",
    "print(avante)\n",
    "print(avante == carnival)\n",
    "print(avante.speed)"
   ]
  },
  {
   "cell_type": "code",
   "execution_count": null,
   "metadata": {},
   "outputs": [],
   "source": []
  }
 ],
 "metadata": {
  "kernelspec": {
   "display_name": "Python 3",
   "language": "python",
   "name": "python3"
  },
  "language_info": {
   "codemirror_mode": {
    "name": "ipython",
    "version": 3
   },
   "file_extension": ".py",
   "mimetype": "text/x-python",
   "name": "python",
   "nbconvert_exporter": "python",
   "pygments_lexer": "ipython3",
   "version": "3.9.13 (tags/v3.9.13:6de2ca5, May 17 2022, 16:36:42) [MSC v.1929 64 bit (AMD64)]"
  },
  "orig_nbformat": 4,
  "vscode": {
   "interpreter": {
    "hash": "c4b9ebf4ca459396e2ad1150752490c26670c1a037c08cad955a4425787bec2e"
   }
  }
 },
 "nbformat": 4,
 "nbformat_minor": 2
}
