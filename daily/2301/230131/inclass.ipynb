{
 "cells": [
  {
   "attachments": {},
   "cell_type": "markdown",
   "metadata": {},
   "source": [
    "변수를 입력받아 출력하는 함수"
   ]
  },
  {
   "cell_type": "code",
   "execution_count": 2,
   "metadata": {},
   "outputs": [
    {
     "name": "stdout",
     "output_type": "stream",
     "text": [
      "안녕하세요 김세훈님\n",
      "Hello, sehoon\n"
     ]
    }
   ],
   "source": [
    "def ko_hello(name):\n",
    "    print(f'안녕하세요 {name}님')\n",
    "def en_hello(name):\n",
    "    print(f'Hello, {name}')\n",
    "\n",
    "ko_hello('김세훈')\n",
    "en_hello('sehoon')"
   ]
  },
  {
   "cell_type": "markdown",
   "metadata": {},
   "source": [
    "#위 함수를 그대로 두고 ^~^//를 출력하려면?"
   ]
  },
  {
   "cell_type": "code",
   "execution_count": 3,
   "metadata": {},
   "outputs": [
    {
     "name": "stdout",
     "output_type": "stream",
     "text": [
      "안녕하세요 김세훈님\n",
      "^~^//\n"
     ]
    }
   ],
   "source": [
    "def ko_hello(name):\n",
    "    print(f'안녕하세요 {name}님')\n",
    "    print('^~^//')\n",
    "def en_hello(name):\n",
    "    print(f'Hello, {name}')\n",
    "    print('^~^//')\n",
    "ko_hello('김세훈')"
   ]
  },
  {
   "cell_type": "markdown",
   "metadata": {},
   "source": [
    "#기능을 추가하려면 똑같은 print('^~^//')을 두 번 쳐야 함"
   ]
  },
  {
   "cell_type": "code",
   "execution_count": 5,
   "metadata": {},
   "outputs": [
    {
     "name": "stdout",
     "output_type": "stream",
     "text": [
      "안녕하세요 aiden님\n",
      "^~^//\n",
      "Hello, aiden\n",
      "^~^//\n"
     ]
    }
   ],
   "source": [
    "def ko_hello(name):\n",
    "    print(f'안녕하세요 {name}님')\n",
    "def en_hello(name):\n",
    "    print(f'Hello, {name}')\n",
    "def add_emoji(name, func):\n",
    "    func(name)\n",
    "    print('^~^//')\n",
    "add_emoji('aiden', ko_hello)\n",
    "add_emoji('aiden', en_hello)"
   ]
  },
  {
   "cell_type": "markdown",
   "metadata": {},
   "source": [
    "#기능을 추가할 수 있음"
   ]
  },
  {
   "attachments": {},
   "cell_type": "markdown",
   "metadata": {},
   "source": [
    "하지만 함수를 호출하는게 길어짐 그리고 뒤에 함수까지 넣어줘야함"
   ]
  },
  {
   "cell_type": "code",
   "execution_count": 8,
   "metadata": {},
   "outputs": [
    {
     "name": "stdout",
     "output_type": "stream",
     "text": [
      "안녕하세요 aiden님\n",
      "^~^//\n",
      "Hello, sehoon\n",
      "^~^//\n"
     ]
    }
   ],
   "source": [
    "def emoji_decorator(func):\n",
    "    def wrapper(name):\n",
    "        func(name)\n",
    "        print(\"^~^//\")\n",
    "    return wrapper #함수를 리턴함\n",
    "\n",
    "def ko_hello(name):\n",
    "    print(f'안녕하세요 {name}님')\n",
    "def en_hello(name):\n",
    "    print(f'Hello, {name}')\n",
    "    '''#방법 1\n",
    "new_func = emoji_decorator(ko_hello)\n",
    "#new_func에는 ko_hello가 실행되게끔 하는 wrapper 함수가 들어가있음\n",
    "new_func('aiden')\n",
    "#wrapper에 필요한 매개변수 넣어줘야함\n",
    "'''\n",
    "#방법 2\n",
    "emoji_decorator(ko_hello)('aiden')\n",
    "emoji_decorator(en_hello)('sehoon')"
   ]
  },
  {
   "attachments": {},
   "cell_type": "markdown",
   "metadata": {},
   "source": [
    "@를 사용하면 처음과 같이 호출할 수 있음"
   ]
  },
  {
   "cell_type": "code",
   "execution_count": 9,
   "metadata": {},
   "outputs": [
    {
     "name": "stdout",
     "output_type": "stream",
     "text": [
      "안녕하세요 aiden님\n",
      "^~^//\n"
     ]
    }
   ],
   "source": [
    "def emoji_decorator(func):\n",
    "    def wrapper(name):\n",
    "        func(name)\n",
    "        print(\"^~^//\")\n",
    "    return wrapper #함수를 리턴함\n",
    "@emoji_decorator\n",
    "def ko_hello(name):\n",
    "    print(f'안녕하세요 {name}님')\n",
    "@emoji_decorator\n",
    "def en_hello(name):\n",
    "    print(f'Hello, {name}')\n",
    "ko_hello('aiden')"
   ]
  },
  {
   "cell_type": "code",
   "execution_count": 12,
   "metadata": {},
   "outputs": [
    {
     "name": "stdout",
     "output_type": "stream",
     "text": [
      "('instance method', <__main__.MyClass object at 0x000002411F96AFA0>)\n",
      "('class method', <class '__main__.MyClass'>)\n",
      "static method\n"
     ]
    }
   ],
   "source": [
    "class MyClass:\n",
    "    def method(self):\n",
    "        return 'instance method', self\n",
    "    \n",
    "    @classmethod\n",
    "    def classmethod(cls):\n",
    "        return 'class method', cls\n",
    "    @staticmethod\n",
    "    def staticmethod():\n",
    "        return 'static method'\n",
    "\n",
    "my_class = MyClass()\n",
    "print(my_class.method())\n",
    "print(my_class.classmethod())\n",
    "print(my_class.staticmethod())"
   ]
  },
  {
   "attachments": {},
   "cell_type": "markdown",
   "metadata": {},
   "source": [
    "### protected에 접근하는 방법"
   ]
  },
  {
   "attachments": {},
   "cell_type": "markdown",
   "metadata": {},
   "source": [
    "protected에 직접 접근하는 코드 (안좋음)"
   ]
  },
  {
   "cell_type": "code",
   "execution_count": 13,
   "metadata": {},
   "outputs": [
    {
     "name": "stdout",
     "output_type": "stream",
     "text": [
      "25\n"
     ]
    }
   ],
   "source": [
    "class Person:\n",
    "    def __init__(self):\n",
    "        self._age = 0\n",
    "    def get_age(self):\n",
    "        return self._age\n",
    "    def set_age(self, age):\n",
    "        self._age = age\n",
    "\n",
    "p1 = Person()\n",
    "#p1._age = 25 #이거 안됨\n",
    "#print(p1._age) #안됨"
   ]
  },
  {
   "attachments": {},
   "cell_type": "markdown",
   "metadata": {},
   "source": [
    "getter, setter 활용 (불편)"
   ]
  },
  {
   "cell_type": "code",
   "execution_count": 16,
   "metadata": {},
   "outputs": [
    {
     "name": "stdout",
     "output_type": "stream",
     "text": [
      "setter 호출\n",
      "getter 호출\n",
      "25\n"
     ]
    }
   ],
   "source": [
    "class Person:\n",
    "    def __init__(self):\n",
    "        self._age = 0\n",
    "    def get_age(self): #getter\n",
    "        print('getter 호출')\n",
    "        return self._age\n",
    "    def set_age(self, age): #setter\n",
    "        print('setter 호출')\n",
    "        self._age = age\n",
    "\n",
    "p1 =Person()\n",
    "p1.set_age(25)\n",
    "print(p1.get_age())"
   ]
  },
  {
   "attachments": {},
   "cell_type": "markdown",
   "metadata": {},
   "source": [
    "setter, getter을 내부적으로 접근해서 편하게 사용 가능"
   ]
  },
  {
   "cell_type": "code",
   "execution_count": 17,
   "metadata": {},
   "outputs": [
    {
     "name": "stdout",
     "output_type": "stream",
     "text": [
      "setter 호출\n",
      "getter 호출\n",
      "25\n"
     ]
    }
   ],
   "source": [
    "class Person:\n",
    "    def __init__(self):\n",
    "        self._age = 0\n",
    "    def get_age(self): #getter\n",
    "        print('getter 호출')\n",
    "        return self._age\n",
    "    def set_age(self, age): #setter\n",
    "        print('setter 호출')\n",
    "        self._age = age\n",
    "\n",
    "    age = property(get_age, set_age) #getter, setter을 저장\n",
    "\n",
    "p1 = Person()\n",
    "p1.age = 25\n",
    "print(p1.age)"
   ]
  },
  {
   "attachments": {},
   "cell_type": "markdown",
   "metadata": {},
   "source": [
    "더 편한 방법"
   ]
  },
  {
   "cell_type": "code",
   "execution_count": 18,
   "metadata": {},
   "outputs": [
    {
     "name": "stdout",
     "output_type": "stream",
     "text": [
      "setter 호출\n",
      "getter 호출\n",
      "25\n"
     ]
    }
   ],
   "source": [
    "class Person:\n",
    "    def __init__(self):\n",
    "        self._age = 0\n",
    "    @property\n",
    "    def age(self): #getter\n",
    "        print('getter 호출')\n",
    "        return self._age\n",
    "    @age.setter\n",
    "    def age(self, age): #setter\n",
    "        print('setter 호출')\n",
    "        self._age = age\n",
    "\n",
    "\n",
    "p1 = Person()\n",
    "p1.age = 25\n",
    "print(p1.age)"
   ]
  },
  {
   "attachments": {},
   "cell_type": "markdown",
   "metadata": {},
   "source": [
    "상속"
   ]
  },
  {
   "cell_type": "code",
   "execution_count": 20,
   "metadata": {},
   "outputs": [
    {
     "name": "stdout",
     "output_type": "stream",
     "text": [
      "빵빵\n"
     ]
    }
   ],
   "source": [
    "class Car():\n",
    "    def horn(self):\n",
    "        print('빵빵')\n",
    "class Avante(Car):\n",
    "    pass\n",
    "\n",
    "avante = Avante()\n",
    "avante.horn()"
   ]
  },
  {
   "attachments": {},
   "cell_type": "markdown",
   "metadata": {},
   "source": [
    "public"
   ]
  },
  {
   "cell_type": "code",
   "execution_count": 21,
   "metadata": {},
   "outputs": [
    {
     "name": "stdout",
     "output_type": "stream",
     "text": [
      "홍길동\n"
     ]
    }
   ],
   "source": [
    "class Person:\n",
    "    def __init__(self, name, age):\n",
    "        self.name = name\n",
    "        self.age = age\n",
    "p1 = Person(\"홍길동\", 30)\n",
    "print(p1.name)"
   ]
  },
  {
   "attachments": {},
   "cell_type": "markdown",
   "metadata": {},
   "source": [
    "protected #나오기는 하지만 하면 안됨"
   ]
  },
  {
   "cell_type": "code",
   "execution_count": 22,
   "metadata": {},
   "outputs": [
    {
     "name": "stdout",
     "output_type": "stream",
     "text": [
      "홍길동\n",
      "1억\n"
     ]
    }
   ],
   "source": [
    "class Person:\n",
    "    def __init__(self, name, age, money):\n",
    "        self.name = name\n",
    "        self.age = age\n",
    "        #protected\n",
    "        self._money = money\n",
    "p1 = Person(\"홍길동\", 30, '1억')\n",
    "print(p1.name)\n",
    "print(p1._money)"
   ]
  },
  {
   "cell_type": "code",
   "execution_count": 28,
   "metadata": {},
   "outputs": [
    {
     "name": "stdout",
     "output_type": "stream",
     "text": [
      "홍길동\n",
      "1억\n"
     ]
    }
   ],
   "source": [
    "class Person:\n",
    "    def __init__(self, name, age, money):\n",
    "        self.name = name\n",
    "        self.age = age\n",
    "        #protected\n",
    "        self._money = money\n",
    "\n",
    "    def get_money(self):\n",
    "        print(self._money)\n",
    "p1 = Person(\"홍길동\", 30, '1억')\n",
    "print(p1.name)\n",
    "p1.get_money()"
   ]
  },
  {
   "attachments": {},
   "cell_type": "markdown",
   "metadata": {},
   "source": [
    "private"
   ]
  },
  {
   "cell_type": "code",
   "execution_count": 34,
   "metadata": {},
   "outputs": [
    {
     "name": "stdout",
     "output_type": "stream",
     "text": [
      "홍길동\n",
      "잘못 입력함\n",
      "1111\n"
     ]
    }
   ],
   "source": [
    "class Person:\n",
    "    def __init__(self, name, age, money, num):\n",
    "        self.name = name\n",
    "        self.age = age\n",
    "        #protected\n",
    "        self._money = money\n",
    "        #private\n",
    "        self.__num = num\n",
    "    def get_money(self):\n",
    "        print(self._money)\n",
    "    def get_num(self, password):\n",
    "        if password == '1234':\n",
    "            print(self.__num)\n",
    "        else:\n",
    "            print('잘못 입력함')\n",
    "p1 = Person(\"홍길동\", 30, '1억', 1111)\n",
    "print(p1.name)\n",
    "#print(p1.__num)#private는 지원해줘서 에러가 뜸\n",
    "p1.get_num('1111')\n",
    "p1.get_num('1234')\n",
    "\n",
    "#밖에서 private 가능하긴 함\n",
    "#print(p1._Person__num)"
   ]
  },
  {
   "attachments": {},
   "cell_type": "markdown",
   "metadata": {},
   "source": [
    "getter, setter 메서드"
   ]
  },
  {
   "cell_type": "code",
   "execution_count": 2,
   "metadata": {},
   "outputs": [
    {
     "name": "stdout",
     "output_type": "stream",
     "text": [
      "2.0\n",
      "0으로는 바꿀 수 없습니다\n",
      "1.0\n"
     ]
    }
   ],
   "source": [
    "class Claculator:\n",
    "    #getter setter은 public에는 사용 안한다.\n",
    "    def __init__(self, a, b):\n",
    "        self._a = a\n",
    "        self._b = b\n",
    "    @property\n",
    "    def b(self):\n",
    "        return self.b\n",
    "    @b.setter\n",
    "    def b(self, new_b):\n",
    "        if new_b==0:\n",
    "            print('0으로는 바꿀 수 없습니다')\n",
    "            return\n",
    "        self._b = new_b\n",
    "    def divide(self):\n",
    "        return self._a / self._b\n",
    "c = Claculator(10 ,5)\n",
    "print(c.divide())\n",
    "c.b = 0#zerodivision error 발생\n",
    "c.b = 10\n",
    "print(c.divide())"
   ]
  },
  {
   "cell_type": "code",
   "execution_count": 8,
   "metadata": {},
   "outputs": [
    {
     "data": {
      "text/plain": [
       "0"
      ]
     },
     "execution_count": 8,
     "metadata": {},
     "output_type": "execute_result"
    }
   ],
   "source": [
    "4 % 2"
   ]
  },
  {
   "cell_type": "code",
   "execution_count": 1,
   "metadata": {},
   "outputs": [
    {
     "name": "stdout",
     "output_type": "stream",
     "text": [
      "1\n",
      "2\n",
      "3\n",
      "4\n"
     ]
    }
   ],
   "source": [
    "for i in [1,2,3,4]:\n",
    "    print(i)"
   ]
  },
  {
   "cell_type": "code",
   "execution_count": null,
   "metadata": {},
   "outputs": [],
   "source": []
  }
 ],
 "metadata": {
  "kernelspec": {
   "display_name": "Python 3",
   "language": "python",
   "name": "python3"
  },
  "language_info": {
   "codemirror_mode": {
    "name": "ipython",
    "version": 3
   },
   "file_extension": ".py",
   "mimetype": "text/x-python",
   "name": "python",
   "nbconvert_exporter": "python",
   "pygments_lexer": "ipython3",
   "version": "3.9.13 (tags/v3.9.13:6de2ca5, May 17 2022, 16:36:42) [MSC v.1929 64 bit (AMD64)]"
  },
  "orig_nbformat": 4,
  "vscode": {
   "interpreter": {
    "hash": "069a4b0f9cb848369c7f231af9da0e0e75ce83dd710487087cd0af8c66418f73"
   }
  }
 },
 "nbformat": 4,
 "nbformat_minor": 2
}
