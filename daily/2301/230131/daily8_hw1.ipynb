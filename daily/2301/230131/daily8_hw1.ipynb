{
 "cells": [
  {
   "cell_type": "code",
   "execution_count": null,
   "metadata": {},
   "outputs": [],
   "source": [
    "# 입력 예시\n",
    "p1 = Point(1, 3)\n",
    "p2 = Point(3, 1)\n",
    "r1 = Rectangle(p1, p2)\n",
    "print(r1.get_area())\n",
    "print(r1.get_perimeter())\n",
    "print(r1.is_square())\n",
    "\n",
    "p3 = Point(3, 7)\n",
    "p4 = Point(6, 4)\n",
    "r2 = Rectangle(p3, p4)\n",
    "print(r2.get_area())\n",
    "print(r2.get_perimeter())\n",
    "print(r2.is_square())\n",
    "\n",
    "# 출력 예시\n",
    "# 4\n",
    "# 8\n",
    "# True\n",
    "\n",
    "# 9\n",
    "# 12\n",
    "# True"
   ]
  },
  {
   "cell_type": "code",
   "execution_count": null,
   "metadata": {},
   "outputs": [],
   "source": [
    "class Point:\n",
    "    x = 0\n",
    "    y = 0\n",
    "    def __init__(self, x, y):\n",
    "        Point.x = x\n",
    "        Point.y = y\n",
    "class Rectangle(Point):\n",
    "    def __init__(self, p1, p2):\n",
    "\n",
    "        "
   ]
  },
  {
   "cell_type": "markdown",
   "metadata": {},
   "source": [
    "Point 클래스에 대한 명세는 다음과 같습니다.\n",
    "\n",
    "**Point 클래스 속성**\n",
    "\n",
    "| 인스턴스 변수 | 타입  | 설명         |\n",
    "| ------- | --- | ---------- |\n",
    "| x       | int | x 좌표의 값이다. |\n",
    "| y       | int | y 좌표의 값이다. |\n",
    "\n",
    "**Point 클래스 메서드**\n",
    "\n",
    "| 메서드   | 매개변수       | 반환값(return) | 설명                                               |\n",
    "| ----- | ---------- | ----------- | ------------------------------------------------ |\n",
    "| (생성자) | x 좌표, y 좌표 | None        | 인스턴스가 생성 될 때, 전달 받은 int 값들로 인스턴스 변수 x와 y를 초기화한다. |\n",
    "\n",
    "예를 들어, 좌표 (4, 3)의 점은 아래와 같이 표현할 수 있다.\n",
    "\n",
    "```python\n",
    "p1 = Point(4, 3)\n",
    "```\n",
    "\n",
    "---\n",
    "\n",
    "Rectangle 클래스에 대한 명세는 다음과 같습니다.\n",
    "\n",
    "**Rectangle 클래스 속성 1**\n",
    "\n",
    "| 인스턴스 변수 | 타입             | 비고       |\n",
    "| ------- | -------------- | -------- |\n",
    "| p1      | Point 클래스 인스턴스 | 좌측 상단 좌표 |\n",
    "| p2      | Point 클래스 인스턴스 | 우측 하단 좌표 |\n",
    "\n",
    "**Rectangle 클래스 메서드 1**\n",
    "\n",
    "| 메소드명           | 인자             | 반환값(타입)                                                                          | 비고                                       |\n",
    "| -------------- | -------------- | -------------------------------------------------------------------------------- | ---------------------------------------- |\n",
    "| (생성자)          | Point 클래스 인스턴스 |                                                                                  |                                          |\n",
    "| Point 클래스 인스턴스 | 없음             | 인스턴스가 생성 될 때, 2개의 Point 인스턴스(좌측 상단 좌표, 우측 하단 좌표)를 전달 받아, 인스턴스 변수 p1과 p2를 초기화 한다. |                                          |\n",
    "| get_area       | 없음             | 넓이(int)                                                                          | 사각형의 넓이를 계산하여 반환한다.                      |\n",
    "| get_perimeter  | 없음             | 둘레 길이(int)                                                                       | 사각형의 둘레 길이를 계산하여 반환한다.                   |\n",
    "| is_square      | 없음             | 정사각형 유무(bool)                                                                    | 사각형이 정사각형이면 True, 정사각형이 아니면 False를 반환한다. |\n",
    "\n",
    "예를 들어, 좌측 상단 좌표 (1, 3)과 우측 하단 좌표 (3, 1)의 점으로 만든 사각형을그림으로 표현하면 다음과 같다.\n",
    "\n",
    "- 예를 들어, 좌측 상단 좌표 (1, 3)과 우측 하단 좌표 (3, 1)의 점으로 만든 사각형을그림으로 표현하면 다음과 같다.\n",
    "\n",
    "<img width=\"637\" alt=\"홈워크_python_08_hw01_P\" src=\"https://user-images.githubusercontent.com/104895176/195534968-0946300e-4b42-429f-8578-8bb4b3e5e698.png\">\n"
   ]
  },
  {
   "cell_type": "code",
   "execution_count": null,
   "metadata": {},
   "outputs": [],
   "source": []
  },
  {
   "cell_type": "code",
   "execution_count": null,
   "metadata": {},
   "outputs": [],
   "source": []
  },
  {
   "cell_type": "code",
   "execution_count": null,
   "metadata": {},
   "outputs": [],
   "source": []
  }
 ],
 "metadata": {
  "kernelspec": {
   "display_name": "Python 3",
   "language": "python",
   "name": "python3"
  },
  "language_info": {
   "codemirror_mode": {
    "name": "ipython",
    "version": 3
   },
   "file_extension": ".py",
   "mimetype": "text/x-python",
   "name": "python",
   "nbconvert_exporter": "python",
   "pygments_lexer": "ipython3",
   "version": "3.9.13 (tags/v3.9.13:6de2ca5, May 17 2022, 16:36:42) [MSC v.1929 64 bit (AMD64)]"
  },
  "orig_nbformat": 4,
  "vscode": {
   "interpreter": {
    "hash": "c4b9ebf4ca459396e2ad1150752490c26670c1a037c08cad955a4425787bec2e"
   }
  }
 },
 "nbformat": 4,
 "nbformat_minor": 2
}
