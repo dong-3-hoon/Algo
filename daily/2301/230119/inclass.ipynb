{
 "cells": [
  {
   "attachments": {},
   "cell_type": "markdown",
   "metadata": {},
   "source": [
    "lambda"
   ]
  },
  {
   "cell_type": "code",
   "execution_count": 1,
   "metadata": {},
   "outputs": [
    {
     "name": "stdout",
     "output_type": "stream",
     "text": [
      "16\n"
     ]
    }
   ],
   "source": [
    "print((lambda x:x *x)(4))"
   ]
  },
  {
   "cell_type": "code",
   "execution_count": 2,
   "metadata": {},
   "outputs": [],
   "source": [
    "rlt = (lambda x:x *x)(4)"
   ]
  },
  {
   "cell_type": "code",
   "execution_count": 3,
   "metadata": {},
   "outputs": [
    {
     "name": "stdout",
     "output_type": "stream",
     "text": [
      "16\n"
     ]
    }
   ],
   "source": [
    "print(rlt)"
   ]
  },
  {
   "cell_type": "code",
   "execution_count": 4,
   "metadata": {},
   "outputs": [
    {
     "data": {
      "text/plain": [
       "4"
      ]
     },
     "execution_count": 4,
     "metadata": {},
     "output_type": "execute_result"
    }
   ],
   "source": [
    "my_func = lambda n : n * 2\n",
    "my_func(2)"
   ]
  },
  {
   "cell_type": "code",
   "execution_count": 5,
   "metadata": {},
   "outputs": [
    {
     "name": "stdout",
     "output_type": "stream",
     "text": [
      "[10, 20, 30]\n"
     ]
    }
   ],
   "source": [
    "#def mymfunc(n):\n",
    "#    return n*10\n",
    "mapobj = map(lambda n: n * 10, [1,2,3])\n",
    "rlt=list(mapobj)\n",
    "print(rlt)"
   ]
  },
  {
   "cell_type": "code",
   "execution_count": 1,
   "metadata": {},
   "outputs": [
    {
     "name": "stdout",
     "output_type": "stream",
     "text": [
      "16\n"
     ]
    }
   ],
   "source": [
    "#람다 함수 = 익명 함수\n",
    "#이름을 기억하지 않음(재사용 불가)\n",
    "\n",
    "v = (lambda x: x*x)(4)\n",
    "print(v)"
   ]
  },
  {
   "cell_type": "code",
   "execution_count": 2,
   "metadata": {},
   "outputs": [
    {
     "name": "stdout",
     "output_type": "stream",
     "text": [
      "16\n"
     ]
    }
   ],
   "source": [
    "# 또 사용하려면 변수에 람다함수 저장\n",
    "my_lambda = lambda x: x*x\n",
    "\n",
    "print(my_lambda(4))"
   ]
  },
  {
   "cell_type": "code",
   "execution_count": 3,
   "metadata": {},
   "outputs": [
    {
     "name": "stdout",
     "output_type": "stream",
     "text": [
      "[('이정현', 1), ('홍경환', 2), ('김재만', 3)]\n"
     ]
    }
   ],
   "source": [
    "#sorted(key, reverse) 키, 정렬 기준\n",
    "#파라미터에 key가 존자함\n",
    "#key 정렬 기준(함수)\n",
    "\n",
    "#딕셔너리 정렬\n",
    "#but 비시퀀스형이라서 순서의 의미가 없음\n",
    "#그래서 시퀀스가 있는 형태로 바꿔서 정렬을 한다.\n",
    "#items()로 튜ㅇㄹㅇㄴㄹㄴㅇㄹ플형식으로 만들어서 정렬\n",
    "\n",
    "등수= {'홍경환': 2, '이정현' : 1, '김재만': 3}\n",
    "#print(등수.items())\n",
    "#1번째 key에 있는 것을 기준으로 정렬(여기서 0은 이름임)\n",
    "print(sorted(등수.items(), key=lambda x: x[1]))"
   ]
  },
  {
   "cell_type": "code",
   "execution_count": null,
   "metadata": {},
   "outputs": [],
   "source": []
  },
  {
   "cell_type": "code",
   "execution_count": null,
   "metadata": {},
   "outputs": [],
   "source": []
  },
  {
   "attachments": {},
   "cell_type": "markdown",
   "metadata": {},
   "source": [
    "재귀 함수"
   ]
  },
  {
   "cell_type": "code",
   "execution_count": null,
   "metadata": {},
   "outputs": [
    {
     "ename": "",
     "evalue": "",
     "output_type": "error",
     "traceback": [
      "\u001b[1;31mCanceled future for execute_request message before replies were done"
     ]
    },
    {
     "ename": "",
     "evalue": "",
     "output_type": "error",
     "traceback": [
      "\u001b[1;31m현재 셀 또는 이전 셀에서 코드를 실행하는 동안 Kernel이 충돌했습니다. 셀의 코드를 검토하여 오류의 가능한 원인을 식별하세요. 자세한 내용을 보려면 <a href='https://aka.ms/vscodeJupyterKernelCrash'> 여기 </a> 를 클릭하세요. 자세한 내용은 Jupyter <a href='command:jupyter.viewOutput'>로그</a>를 참조하세요."
     ]
    }
   ],
   "source": [
    "# def recur():\n",
    "#     print('뿅')\n",
    "#     recur()\n",
    "# recur()"
   ]
  },
  {
   "cell_type": "code",
   "execution_count": 1,
   "metadata": {},
   "outputs": [
    {
     "name": "stdout",
     "output_type": "stream",
     "text": [
      "120\n"
     ]
    }
   ],
   "source": [
    "def fac(n):\n",
    "    if n==0:#재귀는 언제 그만할지에 대한 부분을 넣어야 한다!!!!\n",
    "        return 1\n",
    "    return n * fac(n-1)\n",
    "print(fac(5))"
   ]
  },
  {
   "attachments": {},
   "cell_type": "markdown",
   "metadata": {},
   "source": [
    "재귀는 그림이 필요함\n",
    "\n",
    "fac(5)=5*fac(4)\n",
    "\n",
    "fac(4)=4*fac(3)\n",
    "\n",
    "'''\n",
    "\n",
    "fac(1)=1*fac(0)\n",
    "\n",
    "fac(0)=>return 1\n",
    "\n",
    "실행은 fac(5)부터지만 종료는 fac(0)부터 끝남"
   ]
  },
  {
   "attachments": {},
   "cell_type": "markdown",
   "metadata": {},
   "source": [
    "패킹, 언패킹"
   ]
  },
  {
   "cell_type": "code",
   "execution_count": 2,
   "metadata": {},
   "outputs": [
    {
     "name": "stdout",
     "output_type": "stream",
     "text": [
      "1 [2, 3, 4]\n"
     ]
    }
   ],
   "source": [
    "a, *b = 1, 2, 3, 4\n",
    "print(a, b)"
   ]
  },
  {
   "cell_type": "code",
   "execution_count": null,
   "metadata": {},
   "outputs": [],
   "source": [
    "def mysum(a, b, c):\n",
    "    return a + b + c\n",
    "\n",
    "numlist = [10, 20, 30]\n",
    "\n",
    "#rlt = mysum(numlist[0], numlist[1], numlist[2])\n",
    "rlt = mysum(*numlist)"
   ]
  },
  {
   "cell_type": "code",
   "execution_count": 3,
   "metadata": {},
   "outputs": [
    {
     "ename": "SyntaxError",
     "evalue": "starred assignment target must be in a list or tuple (3921237761.py, line 1)",
     "output_type": "error",
     "traceback": [
      "\u001b[1;36m  Cell \u001b[1;32mIn[3], line 1\u001b[1;36m\u001b[0m\n\u001b[1;33m    *b = [1,2,3], [4,5,6],[7,8,9]\u001b[0m\n\u001b[1;37m    ^\u001b[0m\n\u001b[1;31mSyntaxError\u001b[0m\u001b[1;31m:\u001b[0m starred assignment target must be in a list or tuple\n"
     ]
    }
   ],
   "source": [
    "#리스트 안의 리스트 형식으로 저장은 불가한가?\n",
    "*b = [1,2,3], [4,5,6], [7,8,9]\n",
    "pirnt(b)"
   ]
  },
  {
   "cell_type": "code",
   "execution_count": 1,
   "metadata": {},
   "outputs": [
    {
     "name": "stdout",
     "output_type": "stream",
     "text": [
      "[1, 2, 3] [[4, 5, 6], [7, 8, 9]]\n"
     ]
    }
   ],
   "source": [
    "#저장 가능(위 코드는 변수가 한개라도 가능해서 안들어가는것)\n",
    "a, *b=[1,2,3], [4,5,6], [7,8,9]\n",
    "print(a, b)"
   ]
  },
  {
   "cell_type": "code",
   "execution_count": 5,
   "metadata": {},
   "outputs": [
    {
     "name": "stdout",
     "output_type": "stream",
     "text": [
      "1\n",
      "1\n",
      "2\n",
      "1\n",
      "2\n",
      "3\n",
      "4\n"
     ]
    }
   ],
   "source": [
    "#가변 매개변수 함수를 받을 수 있음\n",
    "def test(*values):\n",
    "    for value in values:\n",
    "        print(value)\n",
    "test(1)\n",
    "test(1, 2)\n",
    "test(1, 2, 3, 4)"
   ]
  },
  {
   "cell_type": "code",
   "execution_count": 6,
   "metadata": {},
   "outputs": [
    {
     "data": {
      "text/plain": [
       "6"
      ]
     },
     "execution_count": 6,
     "metadata": {},
     "output_type": "execute_result"
    }
   ],
   "source": [
    "def my_sum(*agrs):\n",
    "    rlt=0\n",
    "    for value in agrs:\n",
    "        rlt+=value\n",
    "    return rlt\n",
    "\n",
    "my_sum() #0\n",
    "my_sum(1,2,3) #6\n"
   ]
  },
  {
   "cell_type": "code",
   "execution_count": null,
   "metadata": {},
   "outputs": [],
   "source": [
    "def my_sum(a, *agrs):#무조건 한 개 받기 my_sum()은 에러가 뜰 것\n",
    "    rlt=0\n",
    "    for value in agrs:\n",
    "        rlt+=value\n",
    "    return rlt"
   ]
  },
  {
   "cell_type": "code",
   "execution_count": 10,
   "metadata": {},
   "outputs": [
    {
     "name": "stdout",
     "output_type": "stream",
     "text": [
      "{'name': 'aiden', 'age': 21} <class 'dict'>\n",
      "aiden\n"
     ]
    },
    {
     "data": {
      "text/plain": [
       "{'name': 'aiden', 'age': 21}"
      ]
     },
     "execution_count": 10,
     "metadata": {},
     "output_type": "execute_result"
    }
   ],
   "source": [
    "def test(**kwards):\n",
    "    print(kwards, type(kwards))\n",
    "    print(kwards['name'])\n",
    "    return kwards\n",
    "\n",
    "test(name='aiden', age=21)#변수가 가변적이어도 사용이 가능함"
   ]
  },
  {
   "cell_type": "code",
   "execution_count": null,
   "metadata": {},
   "outputs": [],
   "source": [
    "def test(*args, **kwards):\n",
    "    print(kwards, type(kwards))\n",
    "    print(kwards['name'])\n",
    "    return kwards\n",
    "\n",
    "test(1, 2, 3, 4, name='aiden', age=21)#키워드가 아닌 애들은 *agrs에 키워드는 **kwards에 저장됨\n"
   ]
  },
  {
   "attachments": {},
   "cell_type": "markdown",
   "metadata": {},
   "source": [
    "module"
   ]
  },
  {
   "cell_type": "code",
   "execution_count": 13,
   "metadata": {},
   "outputs": [
    {
     "name": "stdout",
     "output_type": "stream",
     "text": [
      "[3, 2, 4, 1]\n"
     ]
    }
   ],
   "source": [
    "import random\n",
    "numlist=[1, 2, 3, 4]\n",
    "random.shuffle(numlist)\n",
    "print(numlist)"
   ]
  },
  {
   "cell_type": "code",
   "execution_count": 15,
   "metadata": {},
   "outputs": [
    {
     "name": "stdout",
     "output_type": "stream",
     "text": [
      "[2, 4, 3, 1]\n"
     ]
    }
   ],
   "source": [
    "from random import shuffle\n",
    "numlist=[1, 2, 3, 4]\n",
    "shuffle(numlist)\n",
    "print(numlist)"
   ]
  },
  {
   "cell_type": "code",
   "execution_count": null,
   "metadata": {},
   "outputs": [],
   "source": []
  },
  {
   "cell_type": "code",
   "execution_count": null,
   "metadata": {},
   "outputs": [],
   "source": []
  },
  {
   "cell_type": "code",
   "execution_count": null,
   "metadata": {},
   "outputs": [],
   "source": []
  },
  {
   "cell_type": "code",
   "execution_count": null,
   "metadata": {},
   "outputs": [],
   "source": []
  },
  {
   "cell_type": "code",
   "execution_count": null,
   "metadata": {},
   "outputs": [],
   "source": []
  },
  {
   "cell_type": "code",
   "execution_count": null,
   "metadata": {},
   "outputs": [],
   "source": []
  },
  {
   "cell_type": "code",
   "execution_count": null,
   "metadata": {},
   "outputs": [],
   "source": []
  }
 ],
 "metadata": {
  "kernelspec": {
   "display_name": "Python 3",
   "language": "python",
   "name": "python3"
  },
  "language_info": {
   "codemirror_mode": {
    "name": "ipython",
    "version": 3
   },
   "file_extension": ".py",
   "mimetype": "text/x-python",
   "name": "python",
   "nbconvert_exporter": "python",
   "pygments_lexer": "ipython3",
   "version": "3.9.13 (tags/v3.9.13:6de2ca5, May 17 2022, 16:36:42) [MSC v.1929 64 bit (AMD64)]"
  },
  "orig_nbformat": 4,
  "vscode": {
   "interpreter": {
    "hash": "c4b9ebf4ca459396e2ad1150752490c26670c1a037c08cad955a4425787bec2e"
   }
  }
 },
 "nbformat": 4,
 "nbformat_minor": 2
}
