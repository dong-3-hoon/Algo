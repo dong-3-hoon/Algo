{
 "cells": [
  {
   "cell_type": "code",
   "execution_count": null,
   "metadata": {},
   "outputs": [],
   "source": [
    "a=1\n",
    "while a<11:\n",
    "    T=int(input())\n",
    "# 여러개의 테스트 케이스가 주어지므로, 각각을 처리합니다.\n",
    "    lst=[]\n",
    "    stk=[]\n",
    "    result=[]\n",
    "    ssum=[]\n",
    "    x=0\n",
    "    y=0\n",
    "    for i in range(100):# 배열 생성\n",
    "        lst=list(map(int, input().split()))\n",
    "        ssum.append(lst)\n",
    "    for j in range(100):#x 축 기준 덧셈\n",
    "        result.append(sum(ssum[j]))\n",
    "    for k_x in range(100):#y축 기준 덧셈\n",
    "        for k_y in range(100):\n",
    "            stk.append(ssum[k_y][k_x])\n",
    "        result.append(sum(stk))\n",
    "        stk=[]\n",
    "    for l in range(100):#대각선 덧셈\n",
    "        stk.append(ssum[l][l])\n",
    "    result.append(sum(stk))\n",
    "    stk=[]\n",
    "    m=0\n",
    "    n=99\n",
    "    while True:\n",
    "        stk.append(ssum[m][n])\n",
    "        m+=1\n",
    "        n-=1\n",
    "        if n<0:\n",
    "            result.append(sum(stk))\n",
    "            break\n",
    "    print(f\"#{T} {max(result)}\")\n",
    "    a+=1\n"
   ]
  }
 ],
 "metadata": {
  "kernelspec": {
   "display_name": "Python 3",
   "language": "python",
   "name": "python3"
  },
  "language_info": {
   "name": "python",
   "version": "3.9.13 (tags/v3.9.13:6de2ca5, May 17 2022, 16:36:42) [MSC v.1929 64 bit (AMD64)]"
  },
  "orig_nbformat": 4,
  "vscode": {
   "interpreter": {
    "hash": "c4b9ebf4ca459396e2ad1150752490c26670c1a037c08cad955a4425787bec2e"
   }
  }
 },
 "nbformat": 4,
 "nbformat_minor": 2
}
