{
 "cells": [
  {
   "attachments": {},
   "cell_type": "markdown",
   "metadata": {},
   "source": [
    "## 가상 환경\n",
    "\n",
    "프로젝트마다 다른 실행 환경을 위해서 전역 설정과 독립적인 실행 환경을 생성\n",
    "\n",
    "## 주의점: 꼭 작업 경로를 확인해라\n",
    "\n",
    "### 가상환경 생성 방법(bash 기준)\n",
    "'''\n",
    "python -m venv <폴더 이름>\n",
    "'''\n",
    "\n",
    "### 가상 환경 활성화 방법\n",
    "'''\n",
    "source <폴더이름>/Scripts/activate\n",
    "'''\n",
    "\n",
    "### 가상 환경에서 사용했던 패키지 목록 추출 방법\n",
    "'''\n",
    "pip freeze > <폴더이름>\n",
    "'''\n",
    "\n",
    "### 다른 가상환경에서 패키지 목록 사용해서 설치하기\n",
    "'''\n",
    "python install -r <파일 이름>\n",
    "'''\n",
    "\n"
   ]
  },
  {
   "cell_type": "markdown",
   "metadata": {},
   "source": []
  },
  {
   "cell_type": "code",
   "execution_count": null,
   "metadata": {},
   "outputs": [],
   "source": []
  }
 ],
 "metadata": {
  "kernelspec": {
   "display_name": "Python 3",
   "language": "python",
   "name": "python3"
  },
  "language_info": {
   "codemirror_mode": {
    "name": "ipython",
    "version": 3
   },
   "file_extension": ".py",
   "mimetype": "text/x-python",
   "name": "python",
   "nbconvert_exporter": "python",
   "pygments_lexer": "ipython3",
   "version": "3.9.13"
  },
  "orig_nbformat": 4,
  "vscode": {
   "interpreter": {
    "hash": "c4b9ebf4ca459396e2ad1150752490c26670c1a037c08cad955a4425787bec2e"
   }
  }
 },
 "nbformat": 4,
 "nbformat_minor": 2
}
